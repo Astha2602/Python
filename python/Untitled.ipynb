{
 "cells": [
  {
   "cell_type": "code",
   "execution_count": 1,
   "metadata": {},
   "outputs": [
    {
     "name": "stdout",
     "output_type": "stream",
     "text": [
      "hello\n"
     ]
    }
   ],
   "source": [
    "print(\"hello\")\n"
   ]
  },
  {
   "cell_type": "code",
   "execution_count": 2,
   "metadata": {},
   "outputs": [
    {
     "name": "stdout",
     "output_type": "stream",
     "text": [
      "(10, 2)\n",
      "12\n",
      "50\n"
     ]
    }
   ],
   "source": [
    "x=10\n",
    "y=2\n",
    "print(x,y)\n",
    "print(x+y)\n",
    "x1=int(50)\n",
    "print(x1)"
   ]
  },
  {
   "cell_type": "code",
   "execution_count": 4,
   "metadata": {},
   "outputs": [
    {
     "name": "stdout",
     "output_type": "stream",
     "text": [
      "('a', 'b')\n",
      "c\n"
     ]
    }
   ],
   "source": [
    "x,y,z=\"a\",\"b\",\"c\"\n",
    "print(x,y)\n",
    "print(z)"
   ]
  },
  {
   "cell_type": "code",
   "execution_count": 7,
   "metadata": {},
   "outputs": [
    {
     "name": "stdout",
     "output_type": "stream",
     "text": [
      "orange orange orange\n"
     ]
    }
   ],
   "source": [
    "x=y=z=(\"orange\")\n",
    "print x,y,z"
   ]
  },
  {
   "cell_type": "code",
   "execution_count": 9,
   "metadata": {},
   "outputs": [
    {
     "name": "stdout",
     "output_type": "stream",
     "text": [
      "('astha', 'singh')\n",
      "astha\n"
     ]
    }
   ],
   "source": [
    "a=\"astha\"\n",
    "b=\"singh\"\n",
    "print(a,b)\n",
    "a='astha'\n",
    "print(a)"
   ]
  },
  {
   "cell_type": "code",
   "execution_count": 12,
   "metadata": {},
   "outputs": [
    {
     "name": "stdout",
     "output_type": "stream",
     "text": [
      "astha\n",
      "singh\n"
     ]
    }
   ],
   "source": [
    "a=\"astha\"\n",
    "print(a)\n",
    "A=\"singh\"\n",
    "print(A)"
   ]
  },
  {
   "cell_type": "code",
   "execution_count": 14,
   "metadata": {},
   "outputs": [
    {
     "name": "stdout",
     "output_type": "stream",
     "text": [
      "astha\n"
     ]
    }
   ],
   "source": [
    "a=b=\"astha\"\n",
    "print a"
   ]
  },
  {
   "cell_type": "code",
   "execution_count": 21,
   "metadata": {},
   "outputs": [
    {
     "name": "stdout",
     "output_type": "stream",
     "text": [
      "asthasingh\n",
      "astha singh\n"
     ]
    }
   ],
   "source": [
    "a=\"astha\"\n",
    "b=\"singh\"\n",
    "print(a+b)\n",
    "print a,b"
   ]
  },
  {
   "cell_type": "code",
   "execution_count": 40,
   "metadata": {},
   "outputs": [
    {
     "name": "stdout",
     "output_type": "stream",
     "text": [
      "my name is astha\n"
     ]
    }
   ],
   "source": [
    "x=\"astha\"\n",
    "def q():\n",
    "    print(\"my name is \" ) + x\n",
    "q()"
   ]
  },
  {
   "cell_type": "code",
   "execution_count": 30,
   "metadata": {},
   "outputs": [
    {
     "name": "stdout",
     "output_type": "stream",
     "text": [
      "my name is astha\n",
      "my name is singh\n"
     ]
    }
   ],
   "source": [
    "q=\"astha\"\n",
    "def a():\n",
    "    print(\"my name is \")+q\n",
    "    \n",
    "a()\n",
    "q=\"singh\"\n",
    "print(\"my name is \")+q"
   ]
  },
  {
   "cell_type": "code",
   "execution_count": 38,
   "metadata": {},
   "outputs": [
    {
     "name": "stdout",
     "output_type": "stream",
     "text": [
      "my name isastha\n",
      "astha\n"
     ]
    }
   ],
   "source": [
    "global x\n",
    "x=\"astha\"\n",
    "def s():\n",
    "    print(\"my name is\")+x\n",
    "s()\n",
    "\n",
    "print(x)"
   ]
  },
  {
   "cell_type": "code",
   "execution_count": 34,
   "metadata": {},
   "outputs": [
    {
     "name": "stdout",
     "output_type": "stream",
     "text": [
      "astha  singh\n"
     ]
    }
   ],
   "source": [
    "x=\"astha  \"\n",
    "y=\"singh\"\n",
    "print(x+y)"
   ]
  },
  {
   "cell_type": "code",
   "execution_count": 1,
   "metadata": {},
   "outputs": [
    {
     "data": {
      "text/plain": [
       "True"
      ]
     },
     "execution_count": 1,
     "metadata": {},
     "output_type": "execute_result"
    }
   ],
   "source": [
    "bool(123)"
   ]
  },
  {
   "cell_type": "code",
   "execution_count": 2,
   "metadata": {},
   "outputs": [
    {
     "data": {
      "text/plain": [
       "True"
      ]
     },
     "execution_count": 2,
     "metadata": {},
     "output_type": "execute_result"
    }
   ],
   "source": [
    "bool(\"abc\")\n",
    "bool([\"apple\",\"boy\"])"
   ]
  },
  {
   "cell_type": "code",
   "execution_count": 4,
   "metadata": {},
   "outputs": [
    {
     "data": {
      "text/plain": [
       "False"
      ]
     },
     "execution_count": 4,
     "metadata": {},
     "output_type": "execute_result"
    }
   ],
   "source": [
    "bool(False)"
   ]
  },
  {
   "cell_type": "code",
   "execution_count": 6,
   "metadata": {},
   "outputs": [
    {
     "name": "stdout",
     "output_type": "stream",
     "text": [
      "True\n",
      "True\n"
     ]
    }
   ],
   "source": [
    "print(bool(\"hello\"))\n",
    "print(bool(12))"
   ]
  },
  {
   "cell_type": "code",
   "execution_count": 8,
   "metadata": {},
   "outputs": [
    {
     "name": "stdout",
     "output_type": "stream",
     "text": [
      "True\n",
      "True\n"
     ]
    }
   ],
   "source": [
    "a=\"hello\"\n",
    "b=1\n",
    "print(bool(a))\n",
    "print(bool(b))"
   ]
  },
  {
   "cell_type": "code",
   "execution_count": 10,
   "metadata": {},
   "outputs": [
    {
     "name": "stdout",
     "output_type": "stream",
     "text": [
      "no\n"
     ]
    }
   ],
   "source": [
    "def myfunc():\n",
    "    return False\n",
    "if myfunc():\n",
    "    print(\"yes\")\n",
    "else:\n",
    "    print(\"no\")"
   ]
  },
  {
   "cell_type": "code",
   "execution_count": 11,
   "metadata": {},
   "outputs": [
    {
     "name": "stdout",
     "output_type": "stream",
     "text": [
      "values inside func [9, 8, 7, [1, 2, 3]]\n",
      "values outside func [9, 8, 7, [1, 2, 3]]\n"
     ]
    }
   ],
   "source": [
    "def func(mylist):\n",
    "    \"this changes a passed list\"\n",
    "    mylist.append([1,2,3])\n",
    "    print \"values inside func\",mylist\n",
    "    return\n",
    "mylist=[9,8,7]\n",
    "func(mylist);\n",
    "print \"values outside func\",mylist"
   ]
  },
  {
   "cell_type": "code",
   "execution_count": 12,
   "metadata": {},
   "outputs": [
    {
     "name": "stdout",
     "output_type": "stream",
     "text": [
      "4\n",
      "my name is astha\n",
      "hello again\n"
     ]
    }
   ],
   "source": [
    "def fn(str):\n",
    "    print str\n",
    "fn(4)\n",
    "fn(\"my name is astha\")\n",
    "fn(\"hello again\")"
   ]
  },
  {
   "cell_type": "code",
   "execution_count": 15,
   "metadata": {},
   "outputs": [
    {
     "name": "stdout",
     "output_type": "stream",
     "text": [
      "mystring\n"
     ]
    }
   ],
   "source": [
    "def fn(str):\n",
    "    \"this prints the function\"\n",
    "    print str\n",
    "    return\n",
    "fn(str=\"mystring\")"
   ]
  },
  {
   "cell_type": "code",
   "execution_count": 16,
   "metadata": {},
   "outputs": [],
   "source": [
    "x=88\n"
   ]
  },
  {
   "cell_type": "code",
   "execution_count": 17,
   "metadata": {},
   "outputs": [
    {
     "data": {
      "text/plain": [
       "88"
      ]
     },
     "execution_count": 17,
     "metadata": {},
     "output_type": "execute_result"
    }
   ],
   "source": [
    "x"
   ]
  },
  {
   "cell_type": "code",
   "execution_count": 23,
   "metadata": {},
   "outputs": [
    {
     "ename": "TypeError",
     "evalue": "fn() takes exactly 1 argument (2 given)",
     "output_type": "error",
     "traceback": [
      "\u001b[1;31m\u001b[0m",
      "\u001b[1;31mTypeError\u001b[0mTraceback (most recent call last)",
      "\u001b[1;32m<ipython-input-23-c2d03003f673>\u001b[0m in \u001b[0;36m<module>\u001b[1;34m()\u001b[0m\n\u001b[0;32m      4\u001b[0m     \u001b[1;32mprint\u001b[0m \u001b[1;34m\"age:\"\u001b[0m\u001b[1;33m,\u001b[0m\u001b[0mage\u001b[0m\u001b[1;33m\u001b[0m\u001b[0m\n\u001b[0;32m      5\u001b[0m     \u001b[1;32mreturn\u001b[0m\u001b[1;33m;\u001b[0m\u001b[1;33m\u001b[0m\u001b[0m\n\u001b[1;32m----> 6\u001b[1;33m \u001b[0mfn\u001b[0m\u001b[1;33m(\u001b[0m\u001b[1;34m\"astha\"\u001b[0m\u001b[1;33m,\u001b[0m\u001b[1;36m1\u001b[0m\u001b[1;33m)\u001b[0m\u001b[1;33m\u001b[0m\u001b[0m\n\u001b[0m",
      "\u001b[1;31mTypeError\u001b[0m: fn() takes exactly 1 argument (2 given)"
     ]
    }
   ],
   "source": []
  },
  {
   "cell_type": "code",
   "execution_count": 26,
   "metadata": {},
   "outputs": [
    {
     "name": "stdout",
     "output_type": "stream",
     "text": [
      "name: astha\n",
      "age: 5\n"
     ]
    }
   ],
   "source": [
    "def fu(name,age):\n",
    "    \"this prints a passed function\"\n",
    "    print \"name:\",name\n",
    "    print \"age:\",age\n",
    "    return;\n",
    "fu(\"astha\",5)"
   ]
  },
  {
   "cell_type": "code",
   "execution_count": 36,
   "metadata": {},
   "outputs": [
    {
     "name": "stdout",
     "output_type": "stream",
     "text": [
      "output is:\n",
      "10\n",
      "20\n",
      "hi\n",
      "30\n",
      "hi\n",
      "40\n",
      "hi\n",
      "50\n",
      "hi\n",
      "60\n",
      "hi\n",
      "huihui\n",
      "hi\n",
      "10.0101\n"
     ]
    }
   ],
   "source": [
    "def f(arg1,arg2,*x):\n",
    "    \"this prints a variable passed argument\"\n",
    "    print \"output is:\"\n",
    "    print arg1\n",
    "    print arg2\n",
    "    for var in x:\n",
    "        print(\"hi\")\n",
    "        print var\n",
    "#f(10,20,30,40)\n",
    "f(10,20,30,40,50,60,\"huihui\",10.0101)"
   ]
  },
  {
   "cell_type": "code",
   "execution_count": 29,
   "metadata": {},
   "outputs": [
    {
     "name": "stdout",
     "output_type": "stream",
     "text": [
      "15\n",
      "30\n",
      "6\n"
     ]
    }
   ],
   "source": [
    "x=lambda a:a+10\n",
    "print(x(5))\n",
    "x=lambda a,b:a*b\n",
    "print(x(5,6))\n",
    "x=lambda a,b,c:a+b+c\n",
    "print(x(1,2,3))"
   ]
  },
  {
   "cell_type": "code",
   "execution_count": 30,
   "metadata": {},
   "outputs": [
    {
     "name": "stdout",
     "output_type": "stream",
     "text": [
      "value of total 30\n",
      "value of total 3\n"
     ]
    }
   ],
   "source": [
    "sum=lambda arg1,arg2:arg1+arg2\n",
    "print(\"value of total\"),sum(10,20)\n",
    "print(\"value of total\"),sum(1,2)"
   ]
  },
  {
   "cell_type": "code",
   "execution_count": 32,
   "metadata": {},
   "outputs": [
    {
     "name": "stdout",
     "output_type": "stream",
     "text": [
      "<function <lambda> at 0x0000000004F130B8>\n",
      "22\n"
     ]
    }
   ],
   "source": [
    "def f(n):\n",
    "    return lambda a:a*n\n",
    "mydoubler=f(2)\n",
    "print(f(2))\n",
    "print(mydoubler(11))"
   ]
  },
  {
   "cell_type": "code",
   "execution_count": 33,
   "metadata": {},
   "outputs": [
    {
     "name": "stdout",
     "output_type": "stream",
     "text": [
      "3\n"
     ]
    }
   ],
   "source": [
    "def f(n):\n",
    "    return lambda a:a*n\n",
    "mytripler=f(3)\n",
    "print(mytripler(1))"
   ]
  },
  {
   "cell_type": "code",
   "execution_count": 2,
   "metadata": {},
   "outputs": [],
   "source": [
    "thisdict={\n",
    "    \"brand\":\"ford\",\n",
    "    \"electric\":False,\n",
    "    \"year\":1920,\n",
    "    \"colours\":[\"red\",\"white\"]\n",
    "}"
   ]
  },
  {
   "cell_type": "code",
   "execution_count": 4,
   "metadata": {},
   "outputs": [
    {
     "name": "stdout",
     "output_type": "stream",
     "text": [
      "['brand', 'electric', 'year']\n",
      "['brand', 'electric', 'year']\n"
     ]
    }
   ],
   "source": [
    "car={\n",
    "    \"brand\":\"ford\",\n",
    "    \"electric\":\"mustang\",\n",
    "    \"year\":1290\n",
    "}\n",
    "x=car.keys()\n",
    "print(x)\n",
    "car[\"colour\"]=\"white\"\n",
    "print(x)"
   ]
  },
  {
   "cell_type": "code",
   "execution_count": 2,
   "metadata": {},
   "outputs": [
    {
     "name": "stdout",
     "output_type": "stream",
     "text": [
      "({1: 'apple', 2: 'ball'}, {1: [2, 4, 3], 'name': 'john'}, {1: 'apple', 2: 'ball'}, {1: 'apple', 2: 'ball'})\n",
      "[2, 4, 3]\n"
     ]
    }
   ],
   "source": [
    "dic={}\n",
    "dict1={1:'apple',2:'ball'}\n",
    "dict2={'name':'john',1:[2,4,3]}\n",
    "dict3=dict({1:'apple',2:'ball'})\n",
    "dict4=dict([(1,'apple'),(2,'ball')])\n",
    "print(dict1,dict2,dict3,dict4)\n",
    "print(dict2[1])"
   ]
  },
  {
   "cell_type": "code",
   "execution_count": 4,
   "metadata": {},
   "outputs": [
    {
     "name": "stdout",
     "output_type": "stream",
     "text": [
      "{'science': 0, 'math': 0, 'english': 0}\n",
      "('science', 0)\n",
      "('math', 0)\n",
      "('english', 0)\n",
      "['english', 'math', 'science']\n"
     ]
    }
   ],
   "source": [
    "marks={}.fromkeys(['math','english','science'],0)\n",
    "print(marks)\n",
    "for item in marks.items():\n",
    "    print(item)\n",
    "print(list(sorted(marks.keys())))"
   ]
  },
  {
   "cell_type": "code",
   "execution_count": 9,
   "metadata": {},
   "outputs": [
    {
     "name": "stdout",
     "output_type": "stream",
     "text": [
      "{2: 4, 3: 9, 4: 16, 5: 25}\n",
      "{0: 0, 1: 1, 2: 4, 3: 9, 4: 16, 5: 25}\n"
     ]
    }
   ],
   "source": [
    "squares={x:x*x for x in range(2,6)}\n",
    "print(squares)\n",
    "squares={}\n",
    "for x in range(6):\n",
    "    squares[x]=x*x\n",
    "print(squares)"
   ]
  },
  {
   "cell_type": "code",
   "execution_count": 10,
   "metadata": {},
   "outputs": [
    {
     "name": "stdout",
     "output_type": "stream",
     "text": [
      "True\n",
      "True\n",
      "False\n"
     ]
    }
   ],
   "source": [
    "squares={1:1,3:9,5:25,7:49,9:81}\n",
    "print(1 in squares)\n",
    "print(2 not in squares)\n",
    "print(49 in squares)"
   ]
  },
  {
   "cell_type": "code",
   "execution_count": 14,
   "metadata": {},
   "outputs": [
    {
     "name": "stdout",
     "output_type": "stream",
     "text": [
      "1\n",
      "9\n",
      "81\n",
      "25\n",
      "49\n"
     ]
    }
   ],
   "source": [
    "squares={1:1,3:9,5:25,7:49,9:81}\n",
    "for i in squares:\n",
    "    print(squares[i])"
   ]
  },
  {
   "cell_type": "code",
   "execution_count": 17,
   "metadata": {},
   "outputs": [
    {
     "name": "stdout",
     "output_type": "stream",
     "text": [
      "{'age': 1, 'aename': 'qwerty'}\n",
      "noida\n"
     ]
    }
   ],
   "source": [
    "my_infor = {'name':'qwerty','age':1,'location':'noida'}\n",
    "city=my_infor.pop('location')\n",
    "print(my_infor)\n",
    "print(city)"
   ]
  },
  {
   "cell_type": "code",
   "execution_count": 2,
   "metadata": {},
   "outputs": [
    {
     "name": "stdout",
     "output_type": "stream",
     "text": [
      "{'age': 1, 'name': 'qwerty', 'location': 'noida'}\n",
      "not found\n"
     ]
    }
   ],
   "source": [
    "my_infor = {'name':'qwerty','age':1,'location':'noida'}\n",
    "a = my_infor.pop('occupation','not found')\n",
    "print(my_infor)\n",
    "print(a)"
   ]
  },
  {
   "cell_type": "code",
   "execution_count": 3,
   "metadata": {},
   "outputs": [
    {
     "name": "stdout",
     "output_type": "stream",
     "text": [
      "{'child1': {'name': 'qwerty', 'year': 2004}, 'child2': {'name': 'werty', 'year': 2014}, 'child3': {'name': 'rty', 'year': 2104}}\n"
     ]
    }
   ],
   "source": [
    "dict={\n",
    "    \"child1\":{\n",
    "     \"name\" :\"qwerty\",\n",
    "    \"year\"  : 2004 \n",
    "    },\n",
    "     \"child2\":{\n",
    "     \"name\" :\"werty\",\n",
    "    \"year\"  : 2014 \n",
    "    },\n",
    "     \"child3\":{\n",
    "     \"name\" :\"rty\",\n",
    "    \"year\"  : 2104 \n",
    "    }\n",
    "    \n",
    "}\n",
    "print(dict)"
   ]
  },
  {
   "cell_type": "code",
   "execution_count": 5,
   "metadata": {},
   "outputs": [
    {
     "name": "stdout",
     "output_type": "stream",
     "text": [
      "{'child1': {'name': 'qw', 'year': 2017}, 'child2': {'name': 'qwe', 'year': 2007}, 'child3': {'name': 'qwer', 'year': 2117}}\n"
     ]
    }
   ],
   "source": [
    "a1={\n",
    "    \"name\":\"qw\",\n",
    "    \"year\":2017\n",
    "}\n",
    "a2={\n",
    "    \"name\":\"qwe\",\n",
    "    \"year\":2007\n",
    "}\n",
    "a3={\n",
    "    \"name\":\"qwer\",\n",
    "    \"year\":2117\n",
    "}\n",
    "aa={\n",
    "    \"child1\":a1,\n",
    "    \"child2\":a2,\n",
    "    \"child3\":a3\n",
    "}\n",
    "print(aa)"
   ]
  },
  {
   "cell_type": "code",
   "execution_count": 6,
   "metadata": {},
   "outputs": [
    {
     "name": "stdout",
     "output_type": "stream",
     "text": [
      "set([1, 2, 3, 4])\n"
     ]
    }
   ],
   "source": []
  },
  {
   "cell_type": "code",
   "execution_count": 2,
   "metadata": {},
   "outputs": [
    {
     "name": "stdout",
     "output_type": "stream",
     "text": [
      "hello python!\n"
     ]
    }
   ],
   "source": [
    "str1=\"hello python!\"\n",
    "print(str1)"
   ]
  },
  {
   "cell_type": "code",
   "execution_count": 5,
   "metadata": {},
   "outputs": [
    {
     "name": "stdout",
     "output_type": "stream",
     "text": [
      "helloworld\n"
     ]
    }
   ],
   "source": [
    "str2=\"hello\"+\"world\"\n",
    "print(str2)"
   ]
  },
  {
   "cell_type": "code",
   "execution_count": 6,
   "metadata": {},
   "outputs": [
    {
     "name": "stdout",
     "output_type": "stream",
     "text": [
      "hello python!hello python!hello python!\n"
     ]
    }
   ],
   "source": [
    "str3=str1*3\n",
    "print(str3)"
   ]
  },
  {
   "cell_type": "code",
   "execution_count": 7,
   "metadata": {},
   "outputs": [
    {
     "data": {
      "text/plain": [
       "['1', '2', '3', '4', '5']"
      ]
     },
     "execution_count": 7,
     "metadata": {},
     "output_type": "execute_result"
    }
   ],
   "source": [
    "str4=\"1 2 3 4 5\"\n",
    "str4.split()"
   ]
  },
  {
   "cell_type": "code",
   "execution_count": 8,
   "metadata": {},
   "outputs": [
    {
     "data": {
      "text/plain": [
       "['1 2 3 4 5']"
      ]
     },
     "execution_count": 8,
     "metadata": {},
     "output_type": "execute_result"
    }
   ],
   "source": [
    "str4.split(\",\")"
   ]
  },
  {
   "cell_type": "code",
   "execution_count": 9,
   "metadata": {},
   "outputs": [
    {
     "data": {
      "text/plain": [
       "'1   2   3   4   5'"
      ]
     },
     "execution_count": 9,
     "metadata": {},
     "output_type": "execute_result"
    }
   ],
   "source": [
    "str5=\" \"\n",
    "str5.join(str4)"
   ]
  },
  {
   "cell_type": "code",
   "execution_count": 10,
   "metadata": {},
   "outputs": [
    {
     "data": {
      "text/plain": [
       "'hello world!'"
      ]
     },
     "execution_count": 10,
     "metadata": {},
     "output_type": "execute_result"
    }
   ],
   "source": [
    "str1.replace(\"python\",\"world\")"
   ]
  },
  {
   "cell_type": "code",
   "execution_count": 11,
   "metadata": {},
   "outputs": [
    {
     "data": {
      "text/plain": [
       "'HELLO PYTHON!'"
      ]
     },
     "execution_count": 11,
     "metadata": {},
     "output_type": "execute_result"
    }
   ],
   "source": [
    " str1.upper()"
   ]
  },
  {
   "cell_type": "code",
   "execution_count": 12,
   "metadata": {},
   "outputs": [
    {
     "data": {
      "text/plain": [
       "'hello python!'"
      ]
     },
     "execution_count": 12,
     "metadata": {},
     "output_type": "execute_result"
    }
   ],
   "source": [
    "str1.strip()"
   ]
  },
  {
   "cell_type": "code",
   "execution_count": 14,
   "metadata": {},
   "outputs": [
    {
     "name": "stdout",
     "output_type": "stream",
     "text": [
      " hello python \n"
     ]
    }
   ],
   "source": [
    "str6=\" hello python \"\n",
    "print(str6)"
   ]
  },
  {
   "cell_type": "code",
   "execution_count": 15,
   "metadata": {},
   "outputs": [
    {
     "data": {
      "text/plain": [
       "'hello python '"
      ]
     },
     "execution_count": 15,
     "metadata": {},
     "output_type": "execute_result"
    }
   ],
   "source": [
    "str6.lstrip()"
   ]
  },
  {
   "cell_type": "code",
   "execution_count": 16,
   "metadata": {},
   "outputs": [
    {
     "data": {
      "text/plain": [
       "' hello python'"
      ]
     },
     "execution_count": 16,
     "metadata": {},
     "output_type": "execute_result"
    }
   ],
   "source": [
    "str6.rstrip()"
   ]
  },
  {
   "cell_type": "code",
   "execution_count": 19,
   "metadata": {},
   "outputs": [
    {
     "name": "stdout",
     "output_type": "stream",
     "text": [
      "True\n"
     ]
    }
   ],
   "source": [
    "text=\"my name is qwerty\"\n",
    "print(\"is\" in text)"
   ]
  },
  {
   "cell_type": "code",
   "execution_count": 20,
   "metadata": {},
   "outputs": [
    {
     "name": "stdout",
     "output_type": "stream",
     "text": [
      "False\n"
     ]
    }
   ],
   "source": [
    "text=\"my name is qwerty\"\n",
    "print(\"is\" not in text)"
   ]
  },
  {
   "cell_type": "code",
   "execution_count": 22,
   "metadata": {},
   "outputs": [],
   "source": [
    "text=\"my name is qwerty\"\n",
    "if \"is\" not in text:\n",
    "    print(\"hi\")"
   ]
  },
  {
   "cell_type": "code",
   "execution_count": 23,
   "metadata": {},
   "outputs": [
    {
     "name": "stdout",
     "output_type": "stream",
     "text": [
      "hi\n"
     ]
    }
   ],
   "source": [
    "text=\"my name is qwerty\"\n",
    "if \"is\"  in text:\n",
    "    print(\"hi\")"
   ]
  },
  {
   "cell_type": "code",
   "execution_count": 29,
   "metadata": {},
   "outputs": [
    {
     "name": "stdout",
     "output_type": "stream",
     "text": [
      "llo w\n",
      "hello\n",
      "llo world\n",
      "wor\n"
     ]
    }
   ],
   "source": [
    "b=\"hello world\"\n",
    "print(b[2:7])\n",
    "print(b[:5])\n",
    "print(b[2:])\n",
    "print(b[-5:-2])"
   ]
  },
  {
   "cell_type": "code",
   "execution_count": 32,
   "metadata": {},
   "outputs": [
    {
     "name": "stdout",
     "output_type": "stream",
     "text": [
      "HELLO WORLD\n",
      "hello world\n",
      "hello world\n"
     ]
    }
   ],
   "source": [
    "a=\"hello world\"\n",
    "print(a.upper())\n",
    "print(a.lower())\n",
    "print(a.strip())"
   ]
  },
  {
   "cell_type": "code",
   "execution_count": 33,
   "metadata": {},
   "outputs": [
    {
     "name": "stdout",
     "output_type": "stream",
     "text": [
      "my name is qwerty and i am 3\n"
     ]
    }
   ],
   "source": [
    "age=3\n",
    "text=\"my name is qwerty and i am {}\"\n",
    "print(text.format(age))"
   ]
  },
  {
   "cell_type": "code",
   "execution_count": 35,
   "metadata": {},
   "outputs": [
    {
     "name": "stdout",
     "output_type": "stream",
     "text": [
      "i want 3 of 2 items that has 1 price\n"
     ]
    }
   ],
   "source": [
    "quantity=3\n",
    "item=2\n",
    "price=1\n",
    "myorder=\"i want {} of {} items that has {} price\"\n",
    "print(myorder.format(quantity,item,price))"
   ]
  },
  {
   "cell_type": "code",
   "execution_count": 39,
   "metadata": {},
   "outputs": [
    {
     "ename": "TypeError",
     "evalue": "unsupported operand type(s) for +: 'int' and 'str'",
     "output_type": "error",
     "traceback": [
      "\u001b[1;31m\u001b[0m",
      "\u001b[1;31mTypeError\u001b[0mTraceback (most recent call last)",
      "\u001b[1;32m<ipython-input-39-c79417d07f2e>\u001b[0m in \u001b[0;36m<module>\u001b[1;34m()\u001b[0m\n\u001b[0;32m      1\u001b[0m \u001b[0mstr\u001b[0m\u001b[1;33m=\u001b[0m\u001b[1;34m\"qwerty\"\u001b[0m\u001b[1;33m\u001b[0m\u001b[0m\n\u001b[0;32m      2\u001b[0m \u001b[0mstr1\u001b[0m\u001b[1;33m=\u001b[0m\u001b[1;36m9\u001b[0m\u001b[1;33m\u001b[0m\u001b[0m\n\u001b[1;32m----> 3\u001b[1;33m \u001b[0mx\u001b[0m\u001b[1;33m=\u001b[0m\u001b[0mstr1\u001b[0m\u001b[1;33m+\u001b[0m\u001b[0mstr\u001b[0m\u001b[1;33m\u001b[0m\u001b[0m\n\u001b[0m\u001b[0;32m      4\u001b[0m \u001b[1;32mprint\u001b[0m \u001b[0mx\u001b[0m\u001b[1;33m\u001b[0m\u001b[0m\n",
      "\u001b[1;31mTypeError\u001b[0m: unsupported operand type(s) for +: 'int' and 'str'"
     ]
    }
   ],
   "source": [
    "str=\"qwerty\"\n",
    "str1=9\n",
    "x=str1+str\n",
    "print x"
   ]
  },
  {
   "cell_type": "code",
   "execution_count": 1,
   "metadata": {},
   "outputs": [
    {
     "name": "stdout",
     "output_type": "stream",
     "text": [
      "my age is 3\n"
     ]
    }
   ],
   "source": [
    "age=3\n",
    "text=\"my age is \"+ str(age)\n",
    "print text"
   ]
  },
  {
   "cell_type": "code",
   "execution_count": 2,
   "metadata": {},
   "outputs": [
    {
     "name": "stdout",
     "output_type": "stream",
     "text": [
      "i want 1 of 3 items that has 2 price\n"
     ]
    }
   ],
   "source": [
    "quantity=3\n",
    "item=2\n",
    "price=1\n",
    "myorder=\"i want {2} of {0} items that has {1} price\"\n",
    "print(myorder.format(quantity,item,price))"
   ]
  },
  {
   "cell_type": "code",
   "execution_count": 3,
   "metadata": {},
   "outputs": [
    {
     "name": "stdout",
     "output_type": "stream",
     "text": [
      "['my', 'name', 'is', 'qwerty']\n"
     ]
    }
   ],
   "source": [
    "import re\n",
    "string=\"my name is qwerty\"\n",
    "print(re.split(\" \",string))"
   ]
  },
  {
   "cell_type": "code",
   "execution_count": 4,
   "metadata": {},
   "outputs": [
    {
     "name": "stdout",
     "output_type": "stream",
     "text": [
      "('in A', 100, 200, 300, 40)\n",
      "('in B', 1000, 2000, 300, 40)\n",
      "('in C', 1000, 2000, 300, 40)\n",
      "('in main', 10, 20, 30, 40)\n"
     ]
    }
   ],
   "source": [
    "a,b,c,d=10,20,30,40\n",
    "def funcA():\n",
    "    a,b,c=100,200,300\n",
    "    print(\"in A\",a,b,c,d)\n",
    "    def funcB():\n",
    "        a,b=1000,2000\n",
    "        print(\"in B\",a,b,c,d)\n",
    "        def funcC():\n",
    "            a=1000\n",
    "            print(\"in C\",a,b,c,d)\n",
    "        funcC()\n",
    "    funcB()\n",
    "funcA()\n",
    "print(\"in main\",a,b,c,d)\n",
    "    "
   ]
  },
  {
   "cell_type": "code",
   "execution_count": 1,
   "metadata": {},
   "outputs": [
    {
     "name": "stdout",
     "output_type": "stream",
     "text": [
      "started crawling\n"
     ]
    }
   ],
   "source": [
    "class infant:\n",
    "    def walk(self):\n",
    "        print(\"started crawling\")\n",
    "child=infant()\n",
    "child.walk()"
   ]
  },
  {
   "cell_type": "code",
   "execution_count": 2,
   "metadata": {},
   "outputs": [
    {
     "name": "stdout",
     "output_type": "stream",
     "text": [
      "walk-m\n",
      "('address of self is', 88224904L)\n",
      "('address of child is', 88224904L)\n"
     ]
    }
   ],
   "source": [
    "class mom():\n",
    "    def walk(self):\n",
    "        print(\"walk-m\")\n",
    "        print(\"address of self is\",id(self))\n",
    "class infant(mom):\n",
    "    pass\n",
    "child=infant()\n",
    "child.walk()\n",
    "print(\"address of child is\",id(child))"
   ]
  },
  {
   "cell_type": "code",
   "execution_count": 4,
   "metadata": {},
   "outputs": [
    {
     "name": "stdout",
     "output_type": "stream",
     "text": [
      "<type 'instancemethod'>\n",
      "<type 'instancemethod'>\n"
     ]
    }
   ],
   "source": [
    "class mom():\n",
    " def walk(self):\n",
    "        print(\"walk-m\")\n",
    "        print(\"address of self is\",id(self))\n",
    "mother=mom()\n",
    "print(type(mom.walk))\n",
    "print(type(mother.walk))"
   ]
  },
  {
   "cell_type": "code",
   "execution_count": 5,
   "metadata": {},
   "outputs": [
    {
     "name": "stdout",
     "output_type": "stream",
     "text": [
      "('global', 10, 'local', 1100)\n",
      "('global', 10, 'local')\n"
     ]
    }
   ],
   "source": [
    "gvar=10\n",
    "class mom():\n",
    "    lvar=1100\n",
    "    print(\"global\",gvar,\"local\",lvar)\n",
    "mother=mom()\n",
    "print(\"global\",gvar,\"local\")"
   ]
  },
  {
   "cell_type": "code",
   "execution_count": 6,
   "metadata": {},
   "outputs": [
    {
     "name": "stdout",
     "output_type": "stream",
     "text": [
      "('global', 10, 'local', 1100)\n",
      "('global', 10)\n"
     ]
    }
   ],
   "source": [
    "gvar=10\n",
    "class mom():\n",
    "    lvar=1100\n",
    "    print(\"global\",gvar,\"local\",lvar)\n",
    "mother=mom()\n",
    "print(\"global\",gvar)"
   ]
  },
  {
   "cell_type": "code",
   "execution_count": 7,
   "metadata": {},
   "outputs": [
    {
     "name": "stdout",
     "output_type": "stream",
     "text": [
      "{'__module__': '__main__', 'lvar': 100, '__doc__': 'this is doc'}\n",
      "this is doc\n"
     ]
    }
   ],
   "source": [
    "class mom():\n",
    "    \"this is doc\"\n",
    "    lvar=100\n",
    "print(mom.__dict__)\n",
    "print(mom.__doc__)"
   ]
  },
  {
   "cell_type": "code",
   "execution_count": 10,
   "metadata": {},
   "outputs": [
    {
     "name": "stdout",
     "output_type": "stream",
     "text": [
      "i am public\n",
      "i am protected\n"
     ]
    },
    {
     "ename": "AttributeError",
     "evalue": "ex instance has no attribute '__private'",
     "output_type": "error",
     "traceback": [
      "\u001b[1;31m\u001b[0m",
      "\u001b[1;31mAttributeError\u001b[0mTraceback (most recent call last)",
      "\u001b[1;32m<ipython-input-10-1040fa4ab2dc>\u001b[0m in \u001b[0;36m<module>\u001b[1;34m()\u001b[0m\n\u001b[0;32m      7\u001b[0m \u001b[1;32mprint\u001b[0m\u001b[1;33m(\u001b[0m\u001b[0mob\u001b[0m\u001b[1;33m.\u001b[0m\u001b[0mpublic\u001b[0m\u001b[1;33m)\u001b[0m\u001b[1;33m\u001b[0m\u001b[0m\n\u001b[0;32m      8\u001b[0m \u001b[1;32mprint\u001b[0m\u001b[1;33m(\u001b[0m\u001b[0mob\u001b[0m\u001b[1;33m.\u001b[0m\u001b[0m_protected\u001b[0m\u001b[1;33m)\u001b[0m\u001b[1;33m\u001b[0m\u001b[0m\n\u001b[1;32m----> 9\u001b[1;33m \u001b[1;32mprint\u001b[0m\u001b[1;33m(\u001b[0m\u001b[0mob\u001b[0m\u001b[1;33m.\u001b[0m\u001b[0m__private\u001b[0m\u001b[1;33m)\u001b[0m\u001b[1;33m\u001b[0m\u001b[0m\n\u001b[0m",
      "\u001b[1;31mAttributeError\u001b[0m: ex instance has no attribute '__private'"
     ]
    }
   ],
   "source": [
    "class ex():\n",
    "    def __init__(self):\n",
    "        self.__private=\"i am private\"\n",
    "        self._protected=\"i am protected\"\n",
    "        self.public=\"i am public\"\n",
    "ob=ex()\n",
    "print(ob.public)\n",
    "print(ob._protected)\n",
    "print(ob.__private)"
   ]
  },
  {
   "cell_type": "code",
   "execution_count": 11,
   "metadata": {},
   "outputs": [
    {
     "name": "stdout",
     "output_type": "stream",
     "text": [
      "i am public\n",
      "i am protected\n"
     ]
    }
   ],
   "source": [
    "class ex():\n",
    "    def __init__(self):\n",
    "        self.__private=\"i am private\"\n",
    "        self._protected=\"i am protected\" \n",
    "        self.public=\"i am public\"\n",
    "ob=ex()\n",
    "print(ob.public)\n",
    "print(ob._protected)"
   ]
  },
  {
   "cell_type": "code",
   "execution_count": 15,
   "metadata": {},
   "outputs": [
    {
     "name": "stdout",
     "output_type": "stream",
     "text": [
      "object destroyed\n"
     ]
    }
   ],
   "source": [
    "class ex():\n",
    "    def __init__(self):\n",
    "        print(\"object constructed\")\n",
    "    def __del__(self):\n",
    "        print(\"object destroyed\")\n",
    "obj=ex()\n",
    "del(obj)\n",
    "    "
   ]
  },
  {
   "cell_type": "code",
   "execution_count": 16,
   "metadata": {},
   "outputs": [
    {
     "name": "stdout",
     "output_type": "stream",
     "text": [
      "[1 2 3 4 5]\n"
     ]
    }
   ],
   "source": [
    "import numpy\n",
    "arr=numpy.array([1,2,3,4,5])\n",
    "print(arr)"
   ]
  },
  {
   "cell_type": "code",
   "execution_count": 17,
   "metadata": {},
   "outputs": [
    {
     "name": "stdout",
     "output_type": "stream",
     "text": [
      "1.16.3\n"
     ]
    }
   ],
   "source": [
    "import numpy as np\n",
    "print(np.__version__)"
   ]
  },
  {
   "cell_type": "code",
   "execution_count": 19,
   "metadata": {},
   "outputs": [
    {
     "name": "stdout",
     "output_type": "stream",
     "text": [
      "[1 2 3 4 5]\n"
     ]
    }
   ],
   "source": [
    "import numpy as np\n",
    "arr=np.array((1,2,3,4,5))\n",
    "print(arr)"
   ]
  },
  {
   "cell_type": "code",
   "execution_count": 20,
   "metadata": {},
   "outputs": [
    {
     "name": "stdout",
     "output_type": "stream",
     "text": [
      "20\n"
     ]
    }
   ],
   "source": [
    "import numpy as np\n",
    "arr=np.array(20)\n",
    "print(arr)"
   ]
  },
  {
   "cell_type": "code",
   "execution_count": 3,
   "metadata": {},
   "outputs": [
    {
     "name": "stdout",
     "output_type": "stream",
     "text": [
      "(2019, 4, 17)\n",
      "(2019, 4, 17)\n",
      "(2017, 7, 1)\n",
      "2019\n",
      "2018\n",
      "2017\n"
     ]
    }
   ],
   "source": [
    "class date:\n",
    "    def __init__(self,day,month,year):\n",
    "        self.year=year\n",
    "        self.month=month\n",
    "        self.day=day\n",
    "    @classmethod\n",
    "    def myd(cls,month,year,day):\n",
    "        cls.day=day\n",
    "        cls.month=month\n",
    "        cls.year=year\n",
    "        return cls(cls.month,cls.day,cls.year)\n",
    "    @classmethod\n",
    "    def ydm(cls,year,day,month):\n",
    "        cls.day=day\n",
    "        cls.month=month\n",
    "        cls.year=year\n",
    "        return cls(cls.month,cls.day,cls.year)\n",
    "d1=date(17,4,2019)\n",
    "print(d1.year,d1.month,d1.day)\n",
    "d2=date.myd(4,2018,5)\n",
    "print(d1.year,d1.month,d1.day)\n",
    "d3=date.ydm(2017,7,1)\n",
    "print(d3.year,d3.month,d3.day)\n",
    "print(d1.year)\n",
    "print(d2.year)\n",
    "print(d3.year)"
   ]
  },
  {
   "cell_type": "code",
   "execution_count": 9,
   "metadata": {},
   "outputs": [
    {
     "name": "stdout",
     "output_type": "stream",
     "text": [
      "200\n"
     ]
    }
   ],
   "source": [
    "x=10\n",
    "y=20\n",
    "q=x+y\n",
    "w=x*y\n",
    "print (w)\n"
   ]
  },
  {
   "cell_type": "code",
   "execution_count": 3,
   "metadata": {},
   "outputs": [
    {
     "name": "stdout",
     "output_type": "stream",
     "text": [
      "[10 20]\n"
     ]
    }
   ],
   "source": [
    "import numpy as np\n",
    "q=np.append(10,20)\n",
    "print q"
   ]
  },
  {
   "cell_type": "code",
   "execution_count": null,
   "metadata": {},
   "outputs": [],
   "source": []
  },
  {
   "cell_type": "code",
   "execution_count": null,
   "metadata": {},
   "outputs": [],
   "source": []
  },
  {
   "cell_type": "code",
   "execution_count": 5,
   "metadata": {},
   "outputs": [
    {
     "data": {
      "text/plain": [
       "array([2, 3, 4, 5])"
      ]
     },
     "execution_count": 5,
     "metadata": {},
     "output_type": "execute_result"
    }
   ],
   "source": [
    "import numpy as np\n",
    "lst=[2,3,4,5]\n",
    "np.array(lst)"
   ]
  },
  {
   "cell_type": "code",
   "execution_count": 6,
   "metadata": {},
   "outputs": [
    {
     "data": {
      "text/plain": [
       "array([[2, 3, 4, 5],\n",
       "       [2, 3, 4, 5]])"
      ]
     },
     "execution_count": 6,
     "metadata": {},
     "output_type": "execute_result"
    }
   ],
   "source": [
    "np.array([lst,lst])"
   ]
  },
  {
   "cell_type": "code",
   "execution_count": 8,
   "metadata": {},
   "outputs": [
    {
     "data": {
      "text/plain": [
       "array([list([24, 6]), list([2, 5, 6]), list([2, 5, 8])], dtype=object)"
      ]
     },
     "execution_count": 8,
     "metadata": {},
     "output_type": "execute_result"
    }
   ],
   "source": [
    "np.array([[24,6],[2,5,6],[2,5,8]])"
   ]
  },
  {
   "cell_type": "code",
   "execution_count": 9,
   "metadata": {},
   "outputs": [
    {
     "data": {
      "text/html": [
       "<div>\n",
       "<style scoped>\n",
       "    .dataframe tbody tr th:only-of-type {\n",
       "        vertical-align: middle;\n",
       "    }\n",
       "\n",
       "    .dataframe tbody tr th {\n",
       "        vertical-align: top;\n",
       "    }\n",
       "\n",
       "    .dataframe thead th {\n",
       "        text-align: right;\n",
       "    }\n",
       "</style>\n",
       "<table border=\"1\" class=\"dataframe\">\n",
       "  <thead>\n",
       "    <tr style=\"text-align: right;\">\n",
       "      <th></th>\n",
       "      <th>a</th>\n",
       "    </tr>\n",
       "  </thead>\n",
       "  <tbody>\n",
       "    <tr>\n",
       "      <th>0</th>\n",
       "      <td>b</td>\n",
       "    </tr>\n",
       "    <tr>\n",
       "      <th>1</th>\n",
       "      <td>c</td>\n",
       "    </tr>\n",
       "    <tr>\n",
       "      <th>2</th>\n",
       "      <td>d</td>\n",
       "    </tr>\n",
       "    <tr>\n",
       "      <th>3</th>\n",
       "      <td>e</td>\n",
       "    </tr>\n",
       "    <tr>\n",
       "      <th>4</th>\n",
       "      <td>f</td>\n",
       "    </tr>\n",
       "    <tr>\n",
       "      <th>5</th>\n",
       "      <td>g</td>\n",
       "    </tr>\n",
       "    <tr>\n",
       "      <th>6</th>\n",
       "      <td>h</td>\n",
       "    </tr>\n",
       "    <tr>\n",
       "      <th>7</th>\n",
       "      <td>i</td>\n",
       "    </tr>\n",
       "  </tbody>\n",
       "</table>\n",
       "</div>"
      ],
      "text/plain": [
       "   a\n",
       "0  b\n",
       "1  c\n",
       "2  d\n",
       "3  e\n",
       "4  f\n",
       "5  g\n",
       "6  h\n",
       "7  i"
      ]
     },
     "execution_count": 9,
     "metadata": {},
     "output_type": "execute_result"
    }
   ],
   "source": [
    "import pandas as pd\n",
    "pd.read_csv(\"C:\\\\Users\\\\singhast\\\\Documents\\\\astha.csv\")"
   ]
  },
  {
   "cell_type": "code",
   "execution_count": 14,
   "metadata": {},
   "outputs": [],
   "source": [
    "import pandas as pd\n",
    "temp=[10,20,30,40,50,90]\n",
    "months=[\"jan\",\"feb\",\"march\",\"april\",\"may\",\"june\"]\n",
    "s1 = pd.Series(temp,months)"
   ]
  },
  {
   "cell_type": "code",
   "execution_count": 17,
   "metadata": {},
   "outputs": [
    {
     "name": "stdout",
     "output_type": "stream",
     "text": [
      "jan      10\n",
      "feb      20\n",
      "march    30\n",
      "april    40\n",
      "may      50\n",
      "june     90\n",
      "dtype: int64\n"
     ]
    }
   ],
   "source": [
    "print s1"
   ]
  },
  {
   "cell_type": "code",
   "execution_count": 18,
   "metadata": {},
   "outputs": [
    {
     "name": "stdout",
     "output_type": "stream",
     "text": [
      "   a\n",
      "0  b\n",
      "1  c\n",
      "2  d\n",
      "3  e\n",
      "4  f\n",
      "5  g\n",
      "6  h\n",
      "7  i\n"
     ]
    }
   ],
   "source": [
    "df=pd.read_csv(\"C:\\\\Users\\\\singhast\\\\Documents\\\\astha.csv\")\n",
    "print df"
   ]
  },
  {
   "cell_type": "code",
   "execution_count": 4,
   "metadata": {},
   "outputs": [
    {
     "name": "stdout",
     "output_type": "stream",
     "text": [
      "[1, 2, 3, 4, 'a', 4, 'b']\n",
      "   0\n",
      "0  1\n",
      "1  2\n",
      "2  3\n",
      "3  4\n",
      "4  a\n",
      "5  4\n",
      "6  b\n"
     ]
    }
   ],
   "source": [
    "lst=[1,2,3,4,'a',4,'b']\n",
    "print (lst)\n",
    "import pandas as pd\n",
    "df=pd.DataFrame(lst)\n",
    "print df"
   ]
  },
  {
   "cell_type": "code",
   "execution_count": 3,
   "metadata": {},
   "outputs": [
    {
     "name": "stdout",
     "output_type": "stream",
     "text": [
      "Empty DataFrame\n",
      "Columns: []\n",
      "Index: []\n"
     ]
    }
   ],
   "source": [
    "import numpy as np;\n",
    "import pandas as pd\n",
    "df=pd.DataFrame()\n",
    "print(df)\n"
   ]
  },
  {
   "cell_type": "code",
   "execution_count": 8,
   "metadata": {},
   "outputs": [
    {
     "name": "stdout",
     "output_type": "stream",
     "text": [
      "(0L, r    a\n",
      "t    b\n",
      "u    c\n",
      "Name: 0, dtype: object)\n"
     ]
    }
   ],
   "source": [
    "import numpy as np;\n",
    "import pandas as pd\n",
    "df=pd.DataFrame(['a','b','c'],index=['r','t','u'])\n",
    "print (df)\n",
    "for x,n in df.iteritems():\n",
    "    print(x,n)\n",
    "    "
   ]
  },
  {
   "cell_type": "code",
   "execution_count": 13,
   "metadata": {},
   "outputs": [
    {
     "name": "stdout",
     "output_type": "stream",
     "text": [
      "       col1      col2      col3      col4\n",
      "6 -1.206686 -0.784684  0.784315 -0.576997\n",
      "7  1.874866 -1.904031  0.780745 -0.309218\n",
      "8 -0.945744  0.537991  0.000220 -1.105692\n",
      "9  1.386292 -1.022027 -0.244856 -0.704299\n",
      "(6L, col1   -1.206686\n",
      "col2   -0.784684\n",
      "col3    0.784315\n",
      "col4   -0.576997\n",
      "Name: 6, dtype: float64)\n",
      "(7L, col1    1.874866\n",
      "col2   -1.904031\n",
      "col3    0.780745\n",
      "col4   -0.309218\n",
      "Name: 7, dtype: float64)\n",
      "(8L, col1   -0.945744\n",
      "col2    0.537991\n",
      "col3    0.000220\n",
      "col4   -1.105692\n",
      "Name: 8, dtype: float64)\n",
      "(9L, col1    1.386292\n",
      "col2   -1.022027\n",
      "col3   -0.244856\n",
      "col4   -0.704299\n",
      "Name: 9, dtype: float64)\n",
      "('col1', 6   -1.206686\n",
      "7    1.874866\n",
      "8   -0.945744\n",
      "9    1.386292\n",
      "Name: col1, dtype: float64)\n",
      "('col2', 6   -0.784684\n",
      "7   -1.904031\n",
      "8    0.537991\n",
      "9   -1.022027\n",
      "Name: col2, dtype: float64)\n",
      "('col3', 6    0.784315\n",
      "7    0.780745\n",
      "8    0.000220\n",
      "9   -0.244856\n",
      "Name: col3, dtype: float64)\n",
      "('col4', 6   -0.576997\n",
      "7   -0.309218\n",
      "8   -1.105692\n",
      "9   -0.704299\n",
      "Name: col4, dtype: float64)\n",
      "Pandas(Index=6L, col1=-1.206686451940066, col2=-0.7846838011893782, col3=0.7843147452059698, col4=-0.5769971488638564)\n",
      "Pandas(Index=7L, col1=1.8748664165377356, col2=-1.904030871212165, col3=0.7807450611403928, col4=-0.3092183098280483)\n",
      "Pandas(Index=8L, col1=-0.945744177557305, col2=0.5379910200399884, col3=0.00021964786842884902, col4=-1.1056920661471759)\n",
      "Pandas(Index=9L, col1=1.3862924723069499, col2=-1.022026617233684, col3=-0.244855688443875, col4=-0.7042985176298965)\n"
     ]
    }
   ],
   "source": [
    "df = pd.DataFrame(np.random.randn(4,4),index = [6,7,8,9],columns = ['col1','col2','col3','col4'])\n",
    "print (df)\n",
    "for row_index,row in df.iterrows():\n",
    "    print(row_index,row)\n",
    "for row_index,row in df.iteritems():\n",
    "    print(row_index,row)\n",
    "for row in df.itertuples():\n",
    "    print(row)"
   ]
  },
  {
   "cell_type": "code",
   "execution_count": 15,
   "metadata": {},
   "outputs": [
    {
     "name": "stdout",
     "output_type": "stream",
     "text": [
      "                a     b     c    g    h\n",
      "first   [a, b, c]   NaN   NaN  NaN  NaN\n",
      "second          5  10.0  20.0  NaN  NaN\n",
      "third          11   NaN   NaN  6.0  1.0\n"
     ]
    }
   ],
   "source": [
    "data=[{'a':['a','b','c']},{'a':5,'b':10,'c':20},{'a':11,'h':1,'g':6}]\n",
    "df=pd.DataFrame(data,index=['first','second','third'])\n",
    "print(df)"
   ]
  },
  {
   "cell_type": "code",
   "execution_count": 17,
   "metadata": {},
   "outputs": [
    {
     "name": "stdout",
     "output_type": "stream",
     "text": [
      "   name   age\n",
      "0  alex  11.0\n",
      "1   bob  12.0\n",
      "2  casd  13.0\n",
      "   name     age\n",
      "5  10.0    alex\n",
      "6  12.0     bob\n",
      "7  13.0  clarks\n",
      "   name     age   new\n",
      "5  10.0    alex  20.0\n",
      "6  12.0     bob  30.0\n",
      "7  13.0  clarks  40.0\n"
     ]
    }
   ],
   "source": [
    "lst1=[['a','b','c'],[1,2,3]]\n",
    "data=[['alex',11],['bob',12],['casd',13]]\n",
    "df=pd.DataFrame(data,columns=['name','age'],dtype=float)\n",
    "print df\n",
    "data=[[10,'alex'],[12,'bob'],[13,'clarks']]\n",
    "df1=pd.DataFrame(data,columns=['name','age'],index=[5,6,7],dtype=float)\n",
    "print df1\n",
    "data=[[10,'alex',20],[12,'bob',30],[13,'clarks',40]]\n",
    "df2=pd.DataFrame(data,columns=['name','age','new'],index=[5,6,7],dtype=float)\n",
    "print df2"
   ]
  },
  {
   "cell_type": "code",
   "execution_count": 19,
   "metadata": {},
   "outputs": [
    {
     "name": "stdout",
     "output_type": "stream",
     "text": [
      "      area   food\n",
      "0  newyork  pizza\n",
      "1  columbo  crabs\n",
      "2   mumbai   vada\n"
     ]
    }
   ],
   "source": [
    "import pandas as pd\n",
    "location=pd.DataFrame({'area':['newyork','columbo','mumbai']})\n",
    "food=pd.DataFrame({'food':['pizza','crabs','vada']})\n",
    "det=pd.concat([location,food],join='outer',axis=1)\n",
    "print det\n"
   ]
  },
  {
   "cell_type": "code",
   "execution_count": 3,
   "metadata": {},
   "outputs": [
    {
     "data": {
      "text/html": [
       "<div>\n",
       "<style scoped>\n",
       "    .dataframe tbody tr th:only-of-type {\n",
       "        vertical-align: middle;\n",
       "    }\n",
       "\n",
       "    .dataframe tbody tr th {\n",
       "        vertical-align: top;\n",
       "    }\n",
       "\n",
       "    .dataframe thead th {\n",
       "        text-align: right;\n",
       "    }\n",
       "</style>\n",
       "<table border=\"1\" class=\"dataframe\">\n",
       "  <thead>\n",
       "    <tr style=\"text-align: right;\">\n",
       "      <th></th>\n",
       "    </tr>\n",
       "  </thead>\n",
       "  <tbody>\n",
       "    <tr>\n",
       "      <th>0</th>\n",
       "    </tr>\n",
       "    <tr>\n",
       "      <th>1</th>\n",
       "    </tr>\n",
       "    <tr>\n",
       "      <th>2</th>\n",
       "    </tr>\n",
       "    <tr>\n",
       "      <th>3</th>\n",
       "    </tr>\n",
       "    <tr>\n",
       "      <th>0</th>\n",
       "    </tr>\n",
       "    <tr>\n",
       "      <th>1</th>\n",
       "    </tr>\n",
       "    <tr>\n",
       "      <th>2</th>\n",
       "    </tr>\n",
       "    <tr>\n",
       "      <th>3</th>\n",
       "    </tr>\n",
       "  </tbody>\n",
       "</table>\n",
       "</div>"
      ],
      "text/plain": [
       "Empty DataFrame\n",
       "Columns: []\n",
       "Index: [0, 1, 2, 3, 0, 1, 2, 3]"
      ]
     },
     "execution_count": 3,
     "metadata": {},
     "output_type": "execute_result"
    }
   ],
   "source": [
    "import pandas as pd\n",
    "engg=pd.read_csv(\"as.csv\")\n",
    "df2=pd.read_csv(\"qw.csv\")\n",
    "det=pd.concat([engg,df2],join='inner',axis=0)\n",
    "det\n",
    "\n"
   ]
  },
  {
   "cell_type": "code",
   "execution_count": 4,
   "metadata": {},
   "outputs": [
    {
     "name": "stderr",
     "output_type": "stream",
     "text": [
      "C:\\Users\\singhast\\AppData\\Local\\Continuum\\anaconda2\\lib\\site-packages\\ipykernel_launcher.py:4: FutureWarning: Sorting because non-concatenation axis is not aligned. A future version\n",
      "of pandas will change to not sort by default.\n",
      "\n",
      "To accept the future behavior, pass 'sort=False'.\n",
      "\n",
      "To retain the current behavior and silence the warning, pass 'sort=True'.\n",
      "\n",
      "  after removing the cwd from sys.path.\n"
     ]
    },
    {
     "data": {
      "text/html": [
       "<div>\n",
       "<style scoped>\n",
       "    .dataframe tbody tr th:only-of-type {\n",
       "        vertical-align: middle;\n",
       "    }\n",
       "\n",
       "    .dataframe tbody tr th {\n",
       "        vertical-align: top;\n",
       "    }\n",
       "\n",
       "    .dataframe thead th {\n",
       "        text-align: right;\n",
       "    }\n",
       "</style>\n",
       "<table border=\"1\" class=\"dataframe\">\n",
       "  <thead>\n",
       "    <tr style=\"text-align: right;\">\n",
       "      <th></th>\n",
       "      <th>0</th>\n",
       "      <th>1</th>\n",
       "      <th>a</th>\n",
       "      <th>l</th>\n",
       "      <th>m</th>\n",
       "      <th>q</th>\n",
       "    </tr>\n",
       "  </thead>\n",
       "  <tbody>\n",
       "    <tr>\n",
       "      <th>0</th>\n",
       "      <td>9.0</td>\n",
       "      <td>NaN</td>\n",
       "      <td>NaN</td>\n",
       "      <td>j</td>\n",
       "      <td>n</td>\n",
       "      <td>NaN</td>\n",
       "    </tr>\n",
       "    <tr>\n",
       "      <th>1</th>\n",
       "      <td>8.0</td>\n",
       "      <td>NaN</td>\n",
       "      <td>NaN</td>\n",
       "      <td>h</td>\n",
       "      <td>b</td>\n",
       "      <td>NaN</td>\n",
       "    </tr>\n",
       "    <tr>\n",
       "      <th>2</th>\n",
       "      <td>7.0</td>\n",
       "      <td>NaN</td>\n",
       "      <td>NaN</td>\n",
       "      <td>g</td>\n",
       "      <td>v</td>\n",
       "      <td>NaN</td>\n",
       "    </tr>\n",
       "    <tr>\n",
       "      <th>3</th>\n",
       "      <td>6.0</td>\n",
       "      <td>NaN</td>\n",
       "      <td>NaN</td>\n",
       "      <td>f</td>\n",
       "      <td>c</td>\n",
       "      <td>NaN</td>\n",
       "    </tr>\n",
       "    <tr>\n",
       "      <th>0</th>\n",
       "      <td>NaN</td>\n",
       "      <td>2.0</td>\n",
       "      <td>b</td>\n",
       "      <td>NaN</td>\n",
       "      <td>NaN</td>\n",
       "      <td>w</td>\n",
       "    </tr>\n",
       "    <tr>\n",
       "      <th>1</th>\n",
       "      <td>NaN</td>\n",
       "      <td>3.0</td>\n",
       "      <td>c</td>\n",
       "      <td>NaN</td>\n",
       "      <td>NaN</td>\n",
       "      <td>e</td>\n",
       "    </tr>\n",
       "    <tr>\n",
       "      <th>2</th>\n",
       "      <td>NaN</td>\n",
       "      <td>4.0</td>\n",
       "      <td>d</td>\n",
       "      <td>NaN</td>\n",
       "      <td>NaN</td>\n",
       "      <td>r</td>\n",
       "    </tr>\n",
       "    <tr>\n",
       "      <th>3</th>\n",
       "      <td>NaN</td>\n",
       "      <td>5.0</td>\n",
       "      <td>e</td>\n",
       "      <td>NaN</td>\n",
       "      <td>NaN</td>\n",
       "      <td>t</td>\n",
       "    </tr>\n",
       "  </tbody>\n",
       "</table>\n",
       "</div>"
      ],
      "text/plain": [
       "     0    1    a    l    m    q\n",
       "0  9.0  NaN  NaN    j    n  NaN\n",
       "1  8.0  NaN  NaN    h    b  NaN\n",
       "2  7.0  NaN  NaN    g    v  NaN\n",
       "3  6.0  NaN  NaN    f    c  NaN\n",
       "0  NaN  2.0    b  NaN  NaN    w\n",
       "1  NaN  3.0    c  NaN  NaN    e\n",
       "2  NaN  4.0    d  NaN  NaN    r\n",
       "3  NaN  5.0    e  NaN  NaN    t"
      ]
     },
     "execution_count": 4,
     "metadata": {},
     "output_type": "execute_result"
    }
   ],
   "source": [
    "import pandas as pd\n",
    "engg=pd.read_csv(\"as.csv\")\n",
    "df2=pd.read_csv(\"qw.csv\")\n",
    "det=pd.concat([engg,df2],join='outer',axis=0)\n",
    "det\n",
    "\n"
   ]
  },
  {
   "cell_type": "code",
   "execution_count": 3,
   "metadata": {},
   "outputs": [
    {
     "data": {
      "text/html": [
       "<div>\n",
       "<style scoped>\n",
       "    .dataframe tbody tr th:only-of-type {\n",
       "        vertical-align: middle;\n",
       "    }\n",
       "\n",
       "    .dataframe tbody tr th {\n",
       "        vertical-align: top;\n",
       "    }\n",
       "\n",
       "    .dataframe thead th {\n",
       "        text-align: right;\n",
       "    }\n",
       "</style>\n",
       "<table border=\"1\" class=\"dataframe\">\n",
       "  <thead>\n",
       "    <tr style=\"text-align: right;\">\n",
       "      <th></th>\n",
       "      <th>naam</th>\n",
       "      <th>phone</th>\n",
       "      <th>cost</th>\n",
       "      <th>number</th>\n",
       "      <th>work</th>\n",
       "    </tr>\n",
       "  </thead>\n",
       "  <tbody>\n",
       "    <tr>\n",
       "      <th>0</th>\n",
       "      <td>NaN</td>\n",
       "      <td>b</td>\n",
       "      <td>NaN</td>\n",
       "      <td>2</td>\n",
       "      <td>w</td>\n",
       "    </tr>\n",
       "    <tr>\n",
       "      <th>1</th>\n",
       "      <td>NaN</td>\n",
       "      <td>c</td>\n",
       "      <td>NaN</td>\n",
       "      <td>3</td>\n",
       "      <td>e</td>\n",
       "    </tr>\n",
       "    <tr>\n",
       "      <th>2</th>\n",
       "      <td>NaN</td>\n",
       "      <td>d</td>\n",
       "      <td>NaN</td>\n",
       "      <td>4</td>\n",
       "      <td>r</td>\n",
       "    </tr>\n",
       "    <tr>\n",
       "      <th>3</th>\n",
       "      <td>NaN</td>\n",
       "      <td>e</td>\n",
       "      <td>NaN</td>\n",
       "      <td>5</td>\n",
       "      <td>t</td>\n",
       "    </tr>\n",
       "  </tbody>\n",
       "</table>\n",
       "</div>"
      ],
      "text/plain": [
       "   naam phone cost  number work\n",
       "0   NaN     b  NaN       2    w\n",
       "1   NaN     c  NaN       3    e\n",
       "2   NaN     d  NaN       4    r\n",
       "3   NaN     e  NaN       5    t"
      ]
     },
     "execution_count": 3,
     "metadata": {},
     "output_type": "execute_result"
    }
   ],
   "source": [
    "import pandas as pd\n",
    "d1 = pd.read_csv(\"as.csv\")\n",
    "d2 = pd.read_csv(\"qw.csv\")\n",
    "d3 =d1.merge(d2 ,how= 'right',on = 'phone')\n",
    "d3\n",
    "\n"
   ]
  },
  {
   "cell_type": "code",
   "execution_count": 4,
   "metadata": {},
   "outputs": [
    {
     "data": {
      "text/html": [
       "<div>\n",
       "<style scoped>\n",
       "    .dataframe tbody tr th:only-of-type {\n",
       "        vertical-align: middle;\n",
       "    }\n",
       "\n",
       "    .dataframe tbody tr th {\n",
       "        vertical-align: top;\n",
       "    }\n",
       "\n",
       "    .dataframe thead th {\n",
       "        text-align: right;\n",
       "    }\n",
       "</style>\n",
       "<table border=\"1\" class=\"dataframe\">\n",
       "  <thead>\n",
       "    <tr style=\"text-align: right;\">\n",
       "      <th></th>\n",
       "      <th>naam</th>\n",
       "      <th>phone</th>\n",
       "      <th>cost</th>\n",
       "      <th>number</th>\n",
       "      <th>work</th>\n",
       "    </tr>\n",
       "  </thead>\n",
       "  <tbody>\n",
       "    <tr>\n",
       "      <th>0</th>\n",
       "      <td>9</td>\n",
       "      <td>j</td>\n",
       "      <td>n</td>\n",
       "      <td>NaN</td>\n",
       "      <td>NaN</td>\n",
       "    </tr>\n",
       "    <tr>\n",
       "      <th>1</th>\n",
       "      <td>8</td>\n",
       "      <td>h</td>\n",
       "      <td>b</td>\n",
       "      <td>NaN</td>\n",
       "      <td>NaN</td>\n",
       "    </tr>\n",
       "    <tr>\n",
       "      <th>2</th>\n",
       "      <td>7</td>\n",
       "      <td>g</td>\n",
       "      <td>v</td>\n",
       "      <td>NaN</td>\n",
       "      <td>NaN</td>\n",
       "    </tr>\n",
       "    <tr>\n",
       "      <th>3</th>\n",
       "      <td>6</td>\n",
       "      <td>f</td>\n",
       "      <td>c</td>\n",
       "      <td>NaN</td>\n",
       "      <td>NaN</td>\n",
       "    </tr>\n",
       "  </tbody>\n",
       "</table>\n",
       "</div>"
      ],
      "text/plain": [
       "   naam phone cost  number work\n",
       "0     9     j    n     NaN  NaN\n",
       "1     8     h    b     NaN  NaN\n",
       "2     7     g    v     NaN  NaN\n",
       "3     6     f    c     NaN  NaN"
      ]
     },
     "execution_count": 4,
     "metadata": {},
     "output_type": "execute_result"
    }
   ],
   "source": [
    "import pandas as pd\n",
    "d1 = pd.read_csv(\"as.csv\")\n",
    "d2 = pd.read_csv(\"qw.csv\")\n",
    "d3 =d1.merge(d2 ,how= 'left',on = 'phone')\n",
    "d3\n",
    "\n"
   ]
  },
  {
   "cell_type": "code",
   "execution_count": 4,
   "metadata": {},
   "outputs": [
    {
     "data": {
      "text/html": [
       "<div>\n",
       "<style scoped>\n",
       "    .dataframe tbody tr th:only-of-type {\n",
       "        vertical-align: middle;\n",
       "    }\n",
       "\n",
       "    .dataframe tbody tr th {\n",
       "        vertical-align: top;\n",
       "    }\n",
       "\n",
       "    .dataframe thead th {\n",
       "        text-align: right;\n",
       "    }\n",
       "</style>\n",
       "<table border=\"1\" class=\"dataframe\">\n",
       "  <thead>\n",
       "    <tr style=\"text-align: right;\">\n",
       "      <th></th>\n",
       "      <th>pclass</th>\n",
       "      <th>survived</th>\n",
       "      <th>name</th>\n",
       "      <th>sex</th>\n",
       "      <th>age</th>\n",
       "      <th>sibsp</th>\n",
       "      <th>parch</th>\n",
       "      <th>ticket</th>\n",
       "      <th>fare</th>\n",
       "      <th>cabin</th>\n",
       "      <th>embarked</th>\n",
       "      <th>boat</th>\n",
       "      <th>body</th>\n",
       "      <th>home.dest</th>\n",
       "    </tr>\n",
       "  </thead>\n",
       "  <tbody>\n",
       "    <tr>\n",
       "      <th>0</th>\n",
       "      <td>1</td>\n",
       "      <td>1</td>\n",
       "      <td>Allen, Miss. Elisabeth Walton</td>\n",
       "      <td>female</td>\n",
       "      <td>29.0000</td>\n",
       "      <td>0</td>\n",
       "      <td>0</td>\n",
       "      <td>24160</td>\n",
       "      <td>211.3375</td>\n",
       "      <td>B5</td>\n",
       "      <td>S</td>\n",
       "      <td>2</td>\n",
       "      <td>NaN</td>\n",
       "      <td>St Louis, MO</td>\n",
       "    </tr>\n",
       "    <tr>\n",
       "      <th>1</th>\n",
       "      <td>1</td>\n",
       "      <td>1</td>\n",
       "      <td>Allison, Master. Hudson Trevor</td>\n",
       "      <td>male</td>\n",
       "      <td>0.9167</td>\n",
       "      <td>1</td>\n",
       "      <td>2</td>\n",
       "      <td>113781</td>\n",
       "      <td>151.5500</td>\n",
       "      <td>C22 C26</td>\n",
       "      <td>S</td>\n",
       "      <td>11</td>\n",
       "      <td>NaN</td>\n",
       "      <td>Montreal, PQ / Chesterville, ON</td>\n",
       "    </tr>\n",
       "    <tr>\n",
       "      <th>2</th>\n",
       "      <td>1</td>\n",
       "      <td>0</td>\n",
       "      <td>Allison, Miss. Helen Loraine</td>\n",
       "      <td>female</td>\n",
       "      <td>2.0000</td>\n",
       "      <td>1</td>\n",
       "      <td>2</td>\n",
       "      <td>113781</td>\n",
       "      <td>151.5500</td>\n",
       "      <td>C22 C26</td>\n",
       "      <td>S</td>\n",
       "      <td>NaN</td>\n",
       "      <td>NaN</td>\n",
       "      <td>Montreal, PQ / Chesterville, ON</td>\n",
       "    </tr>\n",
       "    <tr>\n",
       "      <th>3</th>\n",
       "      <td>1</td>\n",
       "      <td>0</td>\n",
       "      <td>Allison, Mr. Hudson Joshua Creighton</td>\n",
       "      <td>male</td>\n",
       "      <td>30.0000</td>\n",
       "      <td>1</td>\n",
       "      <td>2</td>\n",
       "      <td>113781</td>\n",
       "      <td>151.5500</td>\n",
       "      <td>C22 C26</td>\n",
       "      <td>S</td>\n",
       "      <td>NaN</td>\n",
       "      <td>135.0</td>\n",
       "      <td>Montreal, PQ / Chesterville, ON</td>\n",
       "    </tr>\n",
       "    <tr>\n",
       "      <th>4</th>\n",
       "      <td>1</td>\n",
       "      <td>0</td>\n",
       "      <td>Allison, Mrs. Hudson J C (Bessie Waldo Daniels)</td>\n",
       "      <td>female</td>\n",
       "      <td>25.0000</td>\n",
       "      <td>1</td>\n",
       "      <td>2</td>\n",
       "      <td>113781</td>\n",
       "      <td>151.5500</td>\n",
       "      <td>C22 C26</td>\n",
       "      <td>S</td>\n",
       "      <td>NaN</td>\n",
       "      <td>NaN</td>\n",
       "      <td>Montreal, PQ / Chesterville, ON</td>\n",
       "    </tr>\n",
       "  </tbody>\n",
       "</table>\n",
       "</div>"
      ],
      "text/plain": [
       "   pclass  survived                                             name     sex  \\\n",
       "0       1         1                    Allen, Miss. Elisabeth Walton  female   \n",
       "1       1         1                   Allison, Master. Hudson Trevor    male   \n",
       "2       1         0                     Allison, Miss. Helen Loraine  female   \n",
       "3       1         0             Allison, Mr. Hudson Joshua Creighton    male   \n",
       "4       1         0  Allison, Mrs. Hudson J C (Bessie Waldo Daniels)  female   \n",
       "\n",
       "       age  sibsp  parch  ticket      fare    cabin embarked boat   body  \\\n",
       "0  29.0000      0      0   24160  211.3375       B5        S    2    NaN   \n",
       "1   0.9167      1      2  113781  151.5500  C22 C26        S   11    NaN   \n",
       "2   2.0000      1      2  113781  151.5500  C22 C26        S  NaN    NaN   \n",
       "3  30.0000      1      2  113781  151.5500  C22 C26        S  NaN  135.0   \n",
       "4  25.0000      1      2  113781  151.5500  C22 C26        S  NaN    NaN   \n",
       "\n",
       "                         home.dest  \n",
       "0                     St Louis, MO  \n",
       "1  Montreal, PQ / Chesterville, ON  \n",
       "2  Montreal, PQ / Chesterville, ON  \n",
       "3  Montreal, PQ / Chesterville, ON  \n",
       "4  Montreal, PQ / Chesterville, ON  "
      ]
     },
     "execution_count": 4,
     "metadata": {},
     "output_type": "execute_result"
    }
   ],
   "source": [
    "import pandas as pd\n",
    "titanic = pd.read_csv(\"titanicnew.csv\")\n",
    "titanic.head()\n"
   ]
  },
  {
   "cell_type": "code",
   "execution_count": 5,
   "metadata": {},
   "outputs": [
    {
     "data": {
      "text/plain": [
       "(1309, 14)"
      ]
     },
     "execution_count": 5,
     "metadata": {},
     "output_type": "execute_result"
    }
   ],
   "source": [
    "titanic.shape\n"
   ]
  },
  {
   "cell_type": "code",
   "execution_count": 6,
   "metadata": {},
   "outputs": [
    {
     "data": {
      "text/plain": [
       "pclass         int64\n",
       "survived       int64\n",
       "name          object\n",
       "sex           object\n",
       "age          float64\n",
       "sibsp          int64\n",
       "parch          int64\n",
       "ticket        object\n",
       "fare         float64\n",
       "cabin         object\n",
       "embarked      object\n",
       "boat          object\n",
       "body         float64\n",
       "home.dest     object\n",
       "dtype: object"
      ]
     },
     "execution_count": 6,
     "metadata": {},
     "output_type": "execute_result"
    }
   ],
   "source": [
    "titanic.dtypes\n"
   ]
  },
  {
   "cell_type": "code",
   "execution_count": 7,
   "metadata": {},
   "outputs": [
    {
     "data": {
      "text/html": [
       "<div>\n",
       "<style scoped>\n",
       "    .dataframe tbody tr th:only-of-type {\n",
       "        vertical-align: middle;\n",
       "    }\n",
       "\n",
       "    .dataframe tbody tr th {\n",
       "        vertical-align: top;\n",
       "    }\n",
       "\n",
       "    .dataframe thead th {\n",
       "        text-align: right;\n",
       "    }\n",
       "</style>\n",
       "<table border=\"1\" class=\"dataframe\">\n",
       "  <thead>\n",
       "    <tr style=\"text-align: right;\">\n",
       "      <th></th>\n",
       "      <th>pclass</th>\n",
       "      <th>survived</th>\n",
       "      <th>age</th>\n",
       "      <th>sibsp</th>\n",
       "      <th>parch</th>\n",
       "      <th>fare</th>\n",
       "      <th>body</th>\n",
       "    </tr>\n",
       "  </thead>\n",
       "  <tbody>\n",
       "    <tr>\n",
       "      <th>count</th>\n",
       "      <td>1309.000000</td>\n",
       "      <td>1309.000000</td>\n",
       "      <td>1046.000000</td>\n",
       "      <td>1309.000000</td>\n",
       "      <td>1309.000000</td>\n",
       "      <td>1308.000000</td>\n",
       "      <td>121.000000</td>\n",
       "    </tr>\n",
       "    <tr>\n",
       "      <th>mean</th>\n",
       "      <td>2.294882</td>\n",
       "      <td>0.381971</td>\n",
       "      <td>29.881135</td>\n",
       "      <td>0.498854</td>\n",
       "      <td>0.385027</td>\n",
       "      <td>33.295479</td>\n",
       "      <td>160.809917</td>\n",
       "    </tr>\n",
       "    <tr>\n",
       "      <th>std</th>\n",
       "      <td>0.837836</td>\n",
       "      <td>0.486055</td>\n",
       "      <td>14.413500</td>\n",
       "      <td>1.041658</td>\n",
       "      <td>0.865560</td>\n",
       "      <td>51.758668</td>\n",
       "      <td>97.696922</td>\n",
       "    </tr>\n",
       "    <tr>\n",
       "      <th>min</th>\n",
       "      <td>1.000000</td>\n",
       "      <td>0.000000</td>\n",
       "      <td>0.166700</td>\n",
       "      <td>0.000000</td>\n",
       "      <td>0.000000</td>\n",
       "      <td>0.000000</td>\n",
       "      <td>1.000000</td>\n",
       "    </tr>\n",
       "    <tr>\n",
       "      <th>25%</th>\n",
       "      <td>2.000000</td>\n",
       "      <td>0.000000</td>\n",
       "      <td>21.000000</td>\n",
       "      <td>0.000000</td>\n",
       "      <td>0.000000</td>\n",
       "      <td>7.895800</td>\n",
       "      <td>72.000000</td>\n",
       "    </tr>\n",
       "    <tr>\n",
       "      <th>50%</th>\n",
       "      <td>3.000000</td>\n",
       "      <td>0.000000</td>\n",
       "      <td>28.000000</td>\n",
       "      <td>0.000000</td>\n",
       "      <td>0.000000</td>\n",
       "      <td>14.454200</td>\n",
       "      <td>155.000000</td>\n",
       "    </tr>\n",
       "    <tr>\n",
       "      <th>75%</th>\n",
       "      <td>3.000000</td>\n",
       "      <td>1.000000</td>\n",
       "      <td>39.000000</td>\n",
       "      <td>1.000000</td>\n",
       "      <td>0.000000</td>\n",
       "      <td>31.275000</td>\n",
       "      <td>256.000000</td>\n",
       "    </tr>\n",
       "    <tr>\n",
       "      <th>max</th>\n",
       "      <td>3.000000</td>\n",
       "      <td>1.000000</td>\n",
       "      <td>80.000000</td>\n",
       "      <td>8.000000</td>\n",
       "      <td>9.000000</td>\n",
       "      <td>512.329200</td>\n",
       "      <td>328.000000</td>\n",
       "    </tr>\n",
       "  </tbody>\n",
       "</table>\n",
       "</div>"
      ],
      "text/plain": [
       "            pclass     survived          age        sibsp        parch  \\\n",
       "count  1309.000000  1309.000000  1046.000000  1309.000000  1309.000000   \n",
       "mean      2.294882     0.381971    29.881135     0.498854     0.385027   \n",
       "std       0.837836     0.486055    14.413500     1.041658     0.865560   \n",
       "min       1.000000     0.000000     0.166700     0.000000     0.000000   \n",
       "25%       2.000000     0.000000    21.000000     0.000000     0.000000   \n",
       "50%       3.000000     0.000000    28.000000     0.000000     0.000000   \n",
       "75%       3.000000     1.000000    39.000000     1.000000     0.000000   \n",
       "max       3.000000     1.000000    80.000000     8.000000     9.000000   \n",
       "\n",
       "              fare        body  \n",
       "count  1308.000000  121.000000  \n",
       "mean     33.295479  160.809917  \n",
       "std      51.758668   97.696922  \n",
       "min       0.000000    1.000000  \n",
       "25%       7.895800   72.000000  \n",
       "50%      14.454200  155.000000  \n",
       "75%      31.275000  256.000000  \n",
       "max     512.329200  328.000000  "
      ]
     },
     "execution_count": 7,
     "metadata": {},
     "output_type": "execute_result"
    }
   ],
   "source": [
    "titanic.describe()"
   ]
  },
  {
   "cell_type": "code",
   "execution_count": 8,
   "metadata": {},
   "outputs": [
    {
     "data": {
      "text/plain": [
       "0       False\n",
       "1       False\n",
       "2       False\n",
       "3       False\n",
       "4       False\n",
       "5       False\n",
       "6       False\n",
       "7       False\n",
       "8       False\n",
       "9       False\n",
       "10      False\n",
       "11      False\n",
       "12      False\n",
       "13      False\n",
       "14      False\n",
       "15      False\n",
       "16      False\n",
       "17      False\n",
       "18      False\n",
       "19      False\n",
       "20      False\n",
       "21      False\n",
       "22      False\n",
       "23      False\n",
       "24      False\n",
       "25      False\n",
       "26      False\n",
       "27      False\n",
       "28      False\n",
       "29      False\n",
       "        ...  \n",
       "1279    False\n",
       "1280    False\n",
       "1281    False\n",
       "1282    False\n",
       "1283    False\n",
       "1284    False\n",
       "1285    False\n",
       "1286    False\n",
       "1287    False\n",
       "1288    False\n",
       "1289    False\n",
       "1290    False\n",
       "1291    False\n",
       "1292    False\n",
       "1293    False\n",
       "1294    False\n",
       "1295    False\n",
       "1296    False\n",
       "1297    False\n",
       "1298    False\n",
       "1299    False\n",
       "1300    False\n",
       "1301    False\n",
       "1302    False\n",
       "1303    False\n",
       "1304    False\n",
       "1305    False\n",
       "1306    False\n",
       "1307    False\n",
       "1308    False\n",
       "Name: name, Length: 1309, dtype: bool"
      ]
     },
     "execution_count": 8,
     "metadata": {},
     "output_type": "execute_result"
    }
   ],
   "source": [
    "pd.isnull(titanic[\"name\"])"
   ]
  },
  {
   "cell_type": "code",
   "execution_count": 40,
   "metadata": {},
   "outputs": [
    {
     "data": {
      "text/html": [
       "<div>\n",
       "<style scoped>\n",
       "    .dataframe tbody tr th:only-of-type {\n",
       "        vertical-align: middle;\n",
       "    }\n",
       "\n",
       "    .dataframe tbody tr th {\n",
       "        vertical-align: top;\n",
       "    }\n",
       "\n",
       "    .dataframe thead th {\n",
       "        text-align: right;\n",
       "    }\n",
       "</style>\n",
       "<table border=\"1\" class=\"dataframe\">\n",
       "  <thead>\n",
       "    <tr style=\"text-align: right;\">\n",
       "      <th></th>\n",
       "      <th>show_id</th>\n",
       "      <th>type</th>\n",
       "      <th>title</th>\n",
       "      <th>director</th>\n",
       "      <th>cast</th>\n",
       "      <th>country</th>\n",
       "      <th>date_added</th>\n",
       "      <th>release_year</th>\n",
       "      <th>rating</th>\n",
       "      <th>duration</th>\n",
       "      <th>listed_in</th>\n",
       "      <th>description</th>\n",
       "    </tr>\n",
       "  </thead>\n",
       "  <tbody>\n",
       "    <tr>\n",
       "      <th>0</th>\n",
       "      <td>s1</td>\n",
       "      <td>Movie</td>\n",
       "      <td>Dick Johnson Is Dead</td>\n",
       "      <td>Kirsten Johnson</td>\n",
       "      <td>NaN</td>\n",
       "      <td>United States</td>\n",
       "      <td>September 25, 2021</td>\n",
       "      <td>2020</td>\n",
       "      <td>PG-13</td>\n",
       "      <td>90 min</td>\n",
       "      <td>Documentaries</td>\n",
       "      <td>As her father nears the end of his life, filmm...</td>\n",
       "    </tr>\n",
       "    <tr>\n",
       "      <th>1</th>\n",
       "      <td>s2</td>\n",
       "      <td>TV Show</td>\n",
       "      <td>Blood &amp; Water</td>\n",
       "      <td>NaN</td>\n",
       "      <td>Ama Qamata, Khosi Ngema, Gail Mabalane, Thaban...</td>\n",
       "      <td>South Africa</td>\n",
       "      <td>September 24, 2021</td>\n",
       "      <td>2021</td>\n",
       "      <td>TV-MA</td>\n",
       "      <td>2 Seasons</td>\n",
       "      <td>International TV Shows, TV Dramas, TV Mysteries</td>\n",
       "      <td>After crossing paths at a party, a Cape Town t...</td>\n",
       "    </tr>\n",
       "    <tr>\n",
       "      <th>2</th>\n",
       "      <td>s3</td>\n",
       "      <td>TV Show</td>\n",
       "      <td>Ganglands</td>\n",
       "      <td>Julien Leclercq</td>\n",
       "      <td>Sami Bouajila, Tracy Gotoas, Samuel Jouy, Nabi...</td>\n",
       "      <td>NaN</td>\n",
       "      <td>September 24, 2021</td>\n",
       "      <td>2021</td>\n",
       "      <td>TV-MA</td>\n",
       "      <td>1 Season</td>\n",
       "      <td>Crime TV Shows, International TV Shows, TV Act...</td>\n",
       "      <td>To protect his family from a powerful drug lor...</td>\n",
       "    </tr>\n",
       "    <tr>\n",
       "      <th>3</th>\n",
       "      <td>s4</td>\n",
       "      <td>TV Show</td>\n",
       "      <td>Jailbirds New Orleans</td>\n",
       "      <td>NaN</td>\n",
       "      <td>NaN</td>\n",
       "      <td>NaN</td>\n",
       "      <td>September 24, 2021</td>\n",
       "      <td>2021</td>\n",
       "      <td>TV-MA</td>\n",
       "      <td>1 Season</td>\n",
       "      <td>Docuseries, Reality TV</td>\n",
       "      <td>Feuds, flirtations and toilet talk go down amo...</td>\n",
       "    </tr>\n",
       "    <tr>\n",
       "      <th>4</th>\n",
       "      <td>s5</td>\n",
       "      <td>TV Show</td>\n",
       "      <td>Kota Factory</td>\n",
       "      <td>NaN</td>\n",
       "      <td>Mayur More, Jitendra Kumar, Ranjan Raj, Alam K...</td>\n",
       "      <td>India</td>\n",
       "      <td>September 24, 2021</td>\n",
       "      <td>2021</td>\n",
       "      <td>TV-MA</td>\n",
       "      <td>2 Seasons</td>\n",
       "      <td>International TV Shows, Romantic TV Shows, TV ...</td>\n",
       "      <td>In a city of coaching centers known to train I...</td>\n",
       "    </tr>\n",
       "    <tr>\n",
       "      <th>5</th>\n",
       "      <td>s6</td>\n",
       "      <td>TV Show</td>\n",
       "      <td>Midnight Mass</td>\n",
       "      <td>Mike Flanagan</td>\n",
       "      <td>Kate Siegel, Zach Gilford, Hamish Linklater, H...</td>\n",
       "      <td>NaN</td>\n",
       "      <td>September 24, 2021</td>\n",
       "      <td>2021</td>\n",
       "      <td>TV-MA</td>\n",
       "      <td>1 Season</td>\n",
       "      <td>TV Dramas, TV Horror, TV Mysteries</td>\n",
       "      <td>The arrival of a charismatic young priest brin...</td>\n",
       "    </tr>\n",
       "    <tr>\n",
       "      <th>6</th>\n",
       "      <td>s7</td>\n",
       "      <td>Movie</td>\n",
       "      <td>My Little Pony: A New Generation</td>\n",
       "      <td>Robert Cullen, José Luis Ucha</td>\n",
       "      <td>Vanessa Hudgens, Kimiko Glenn, James Marsden, ...</td>\n",
       "      <td>NaN</td>\n",
       "      <td>September 24, 2021</td>\n",
       "      <td>2021</td>\n",
       "      <td>PG</td>\n",
       "      <td>91 min</td>\n",
       "      <td>Children &amp; Family Movies</td>\n",
       "      <td>Equestria's divided. But a bright-eyed hero be...</td>\n",
       "    </tr>\n",
       "    <tr>\n",
       "      <th>7</th>\n",
       "      <td>s8</td>\n",
       "      <td>Movie</td>\n",
       "      <td>Sankofa</td>\n",
       "      <td>Haile Gerima</td>\n",
       "      <td>Kofi Ghanaba, Oyafunmike Ogunlano, Alexandra D...</td>\n",
       "      <td>United States, Ghana, Burkina Faso, United Kin...</td>\n",
       "      <td>September 24, 2021</td>\n",
       "      <td>1993</td>\n",
       "      <td>TV-MA</td>\n",
       "      <td>125 min</td>\n",
       "      <td>Dramas, Independent Movies, International Movies</td>\n",
       "      <td>On a photo shoot in Ghana, an American model s...</td>\n",
       "    </tr>\n",
       "    <tr>\n",
       "      <th>8</th>\n",
       "      <td>s9</td>\n",
       "      <td>TV Show</td>\n",
       "      <td>The Great British Baking Show</td>\n",
       "      <td>Andy Devonshire</td>\n",
       "      <td>Mel Giedroyc, Sue Perkins, Mary Berry, Paul Ho...</td>\n",
       "      <td>United Kingdom</td>\n",
       "      <td>September 24, 2021</td>\n",
       "      <td>2021</td>\n",
       "      <td>TV-14</td>\n",
       "      <td>9 Seasons</td>\n",
       "      <td>British TV Shows, Reality TV</td>\n",
       "      <td>A talented batch of amateur bakers face off in...</td>\n",
       "    </tr>\n",
       "    <tr>\n",
       "      <th>9</th>\n",
       "      <td>s10</td>\n",
       "      <td>Movie</td>\n",
       "      <td>The Starling</td>\n",
       "      <td>Theodore Melfi</td>\n",
       "      <td>Melissa McCarthy, Chris O'Dowd, Kevin Kline, T...</td>\n",
       "      <td>United States</td>\n",
       "      <td>September 24, 2021</td>\n",
       "      <td>2021</td>\n",
       "      <td>PG-13</td>\n",
       "      <td>104 min</td>\n",
       "      <td>Comedies, Dramas</td>\n",
       "      <td>A woman adjusting to life after a loss contend...</td>\n",
       "    </tr>\n",
       "    <tr>\n",
       "      <th>10</th>\n",
       "      <td>s11</td>\n",
       "      <td>TV Show</td>\n",
       "      <td>Vendetta: Truth, Lies and The Mafia</td>\n",
       "      <td>NaN</td>\n",
       "      <td>NaN</td>\n",
       "      <td>NaN</td>\n",
       "      <td>September 24, 2021</td>\n",
       "      <td>2021</td>\n",
       "      <td>TV-MA</td>\n",
       "      <td>1 Season</td>\n",
       "      <td>Crime TV Shows, Docuseries, International TV S...</td>\n",
       "      <td>Sicily boasts a bold \"Anti-Mafia\" coalition. B...</td>\n",
       "    </tr>\n",
       "    <tr>\n",
       "      <th>11</th>\n",
       "      <td>s12</td>\n",
       "      <td>TV Show</td>\n",
       "      <td>Bangkok Breaking</td>\n",
       "      <td>Kongkiat Komesiri</td>\n",
       "      <td>Sukollawat Kanarot, Sushar Manaying, Pavarit M...</td>\n",
       "      <td>NaN</td>\n",
       "      <td>September 23, 2021</td>\n",
       "      <td>2021</td>\n",
       "      <td>TV-MA</td>\n",
       "      <td>1 Season</td>\n",
       "      <td>Crime TV Shows, International TV Shows, TV Act...</td>\n",
       "      <td>Struggling to earn a living in Bangkok, a man ...</td>\n",
       "    </tr>\n",
       "    <tr>\n",
       "      <th>12</th>\n",
       "      <td>s13</td>\n",
       "      <td>Movie</td>\n",
       "      <td>Je Suis Karl</td>\n",
       "      <td>Christian Schwochow</td>\n",
       "      <td>Luna Wedler, Jannis Niewöhner, Milan Peschel, ...</td>\n",
       "      <td>Germany, Czech Republic</td>\n",
       "      <td>September 23, 2021</td>\n",
       "      <td>2021</td>\n",
       "      <td>TV-MA</td>\n",
       "      <td>127 min</td>\n",
       "      <td>Dramas, International Movies</td>\n",
       "      <td>After most of her family is murdered in a terr...</td>\n",
       "    </tr>\n",
       "    <tr>\n",
       "      <th>13</th>\n",
       "      <td>s14</td>\n",
       "      <td>Movie</td>\n",
       "      <td>Confessions of an Invisible Girl</td>\n",
       "      <td>Bruno Garotti</td>\n",
       "      <td>Klara Castanho, Lucca Picon, Júlia Gomes, Marc...</td>\n",
       "      <td>NaN</td>\n",
       "      <td>September 22, 2021</td>\n",
       "      <td>2021</td>\n",
       "      <td>TV-PG</td>\n",
       "      <td>91 min</td>\n",
       "      <td>Children &amp; Family Movies, Comedies</td>\n",
       "      <td>When the clever but socially-awkward Tetê join...</td>\n",
       "    </tr>\n",
       "    <tr>\n",
       "      <th>14</th>\n",
       "      <td>s15</td>\n",
       "      <td>TV Show</td>\n",
       "      <td>Crime Stories: India Detectives</td>\n",
       "      <td>NaN</td>\n",
       "      <td>NaN</td>\n",
       "      <td>NaN</td>\n",
       "      <td>September 22, 2021</td>\n",
       "      <td>2021</td>\n",
       "      <td>TV-MA</td>\n",
       "      <td>1 Season</td>\n",
       "      <td>British TV Shows, Crime TV Shows, Docuseries</td>\n",
       "      <td>Cameras following Bengaluru police on the job ...</td>\n",
       "    </tr>\n",
       "    <tr>\n",
       "      <th>15</th>\n",
       "      <td>s16</td>\n",
       "      <td>TV Show</td>\n",
       "      <td>Dear White People</td>\n",
       "      <td>NaN</td>\n",
       "      <td>Logan Browning, Brandon P. Bell, DeRon Horton,...</td>\n",
       "      <td>United States</td>\n",
       "      <td>September 22, 2021</td>\n",
       "      <td>2021</td>\n",
       "      <td>TV-MA</td>\n",
       "      <td>4 Seasons</td>\n",
       "      <td>TV Comedies, TV Dramas</td>\n",
       "      <td>Students of color navigate the daily slights a...</td>\n",
       "    </tr>\n",
       "    <tr>\n",
       "      <th>16</th>\n",
       "      <td>s17</td>\n",
       "      <td>Movie</td>\n",
       "      <td>Europe's Most Dangerous Man: Otto Skorzeny in ...</td>\n",
       "      <td>Pedro de Echave García, Pablo Azorín Williams</td>\n",
       "      <td>NaN</td>\n",
       "      <td>NaN</td>\n",
       "      <td>September 22, 2021</td>\n",
       "      <td>2020</td>\n",
       "      <td>TV-MA</td>\n",
       "      <td>67 min</td>\n",
       "      <td>Documentaries, International Movies</td>\n",
       "      <td>Declassified documents reveal the post-WWII li...</td>\n",
       "    </tr>\n",
       "    <tr>\n",
       "      <th>17</th>\n",
       "      <td>s18</td>\n",
       "      <td>TV Show</td>\n",
       "      <td>Falsa identidad</td>\n",
       "      <td>NaN</td>\n",
       "      <td>Luis Ernesto Franco, Camila Sodi, Sergio Goyri...</td>\n",
       "      <td>Mexico</td>\n",
       "      <td>September 22, 2021</td>\n",
       "      <td>2020</td>\n",
       "      <td>TV-MA</td>\n",
       "      <td>2 Seasons</td>\n",
       "      <td>Crime TV Shows, Spanish-Language TV Shows, TV ...</td>\n",
       "      <td>Strangers Diego and Isabel flee their home in ...</td>\n",
       "    </tr>\n",
       "    <tr>\n",
       "      <th>18</th>\n",
       "      <td>s19</td>\n",
       "      <td>Movie</td>\n",
       "      <td>Intrusion</td>\n",
       "      <td>Adam Salky</td>\n",
       "      <td>Freida Pinto, Logan Marshall-Green, Robert Joh...</td>\n",
       "      <td>NaN</td>\n",
       "      <td>September 22, 2021</td>\n",
       "      <td>2021</td>\n",
       "      <td>TV-14</td>\n",
       "      <td>94 min</td>\n",
       "      <td>Thrillers</td>\n",
       "      <td>After a deadly home invasion at a couple’s new...</td>\n",
       "    </tr>\n",
       "    <tr>\n",
       "      <th>19</th>\n",
       "      <td>s20</td>\n",
       "      <td>TV Show</td>\n",
       "      <td>Jaguar</td>\n",
       "      <td>NaN</td>\n",
       "      <td>Blanca Suárez, Iván Marcos, Óscar Casas, Adriá...</td>\n",
       "      <td>NaN</td>\n",
       "      <td>September 22, 2021</td>\n",
       "      <td>2021</td>\n",
       "      <td>TV-MA</td>\n",
       "      <td>1 Season</td>\n",
       "      <td>International TV Shows, Spanish-Language TV Sh...</td>\n",
       "      <td>In the 1960s, a Holocaust survivor joins a gro...</td>\n",
       "    </tr>\n",
       "    <tr>\n",
       "      <th>20</th>\n",
       "      <td>s21</td>\n",
       "      <td>TV Show</td>\n",
       "      <td>Monsters Inside: The 24 Faces of Billy Milligan</td>\n",
       "      <td>Olivier Megaton</td>\n",
       "      <td>NaN</td>\n",
       "      <td>NaN</td>\n",
       "      <td>September 22, 2021</td>\n",
       "      <td>2021</td>\n",
       "      <td>TV-14</td>\n",
       "      <td>1 Season</td>\n",
       "      <td>Crime TV Shows, Docuseries, International TV S...</td>\n",
       "      <td>In the late 1970s, an accused serial rapist cl...</td>\n",
       "    </tr>\n",
       "    <tr>\n",
       "      <th>21</th>\n",
       "      <td>s22</td>\n",
       "      <td>TV Show</td>\n",
       "      <td>Resurrection: Ertugrul</td>\n",
       "      <td>NaN</td>\n",
       "      <td>Engin Altan Düzyatan, Serdar Gökhan, Hülya Dar...</td>\n",
       "      <td>Turkey</td>\n",
       "      <td>September 22, 2021</td>\n",
       "      <td>2018</td>\n",
       "      <td>TV-14</td>\n",
       "      <td>5 Seasons</td>\n",
       "      <td>International TV Shows, TV Action &amp; Adventure,...</td>\n",
       "      <td>When a good deed unwittingly endangers his cla...</td>\n",
       "    </tr>\n",
       "    <tr>\n",
       "      <th>22</th>\n",
       "      <td>s23</td>\n",
       "      <td>Movie</td>\n",
       "      <td>Avvai Shanmughi</td>\n",
       "      <td>K.S. Ravikumar</td>\n",
       "      <td>Kamal Hassan, Meena, Gemini Ganesan, Heera Raj...</td>\n",
       "      <td>NaN</td>\n",
       "      <td>September 21, 2021</td>\n",
       "      <td>1996</td>\n",
       "      <td>TV-PG</td>\n",
       "      <td>161 min</td>\n",
       "      <td>Comedies, International Movies</td>\n",
       "      <td>Newly divorced and denied visitation rights wi...</td>\n",
       "    </tr>\n",
       "    <tr>\n",
       "      <th>23</th>\n",
       "      <td>s24</td>\n",
       "      <td>Movie</td>\n",
       "      <td>Go! Go! Cory Carson: Chrissy Takes the Wheel</td>\n",
       "      <td>Alex Woo, Stanley Moore</td>\n",
       "      <td>Maisie Benson, Paul Killam, Kerry Gudjohnsen, ...</td>\n",
       "      <td>NaN</td>\n",
       "      <td>September 21, 2021</td>\n",
       "      <td>2021</td>\n",
       "      <td>TV-Y</td>\n",
       "      <td>61 min</td>\n",
       "      <td>Children &amp; Family Movies</td>\n",
       "      <td>From arcade games to sled days and hiccup cure...</td>\n",
       "    </tr>\n",
       "    <tr>\n",
       "      <th>24</th>\n",
       "      <td>s25</td>\n",
       "      <td>Movie</td>\n",
       "      <td>Jeans</td>\n",
       "      <td>S. Shankar</td>\n",
       "      <td>Prashanth, Aishwarya Rai Bachchan, Sri Lakshmi...</td>\n",
       "      <td>India</td>\n",
       "      <td>September 21, 2021</td>\n",
       "      <td>1998</td>\n",
       "      <td>TV-14</td>\n",
       "      <td>166 min</td>\n",
       "      <td>Comedies, International Movies, Romantic Movies</td>\n",
       "      <td>When the father of the man she loves insists t...</td>\n",
       "    </tr>\n",
       "    <tr>\n",
       "      <th>25</th>\n",
       "      <td>s26</td>\n",
       "      <td>TV Show</td>\n",
       "      <td>Love on the Spectrum</td>\n",
       "      <td>NaN</td>\n",
       "      <td>Brooke Satchwell</td>\n",
       "      <td>Australia</td>\n",
       "      <td>September 21, 2021</td>\n",
       "      <td>2021</td>\n",
       "      <td>TV-14</td>\n",
       "      <td>2 Seasons</td>\n",
       "      <td>Docuseries, International TV Shows, Reality TV</td>\n",
       "      <td>Finding love can be hard for anyone. For young...</td>\n",
       "    </tr>\n",
       "    <tr>\n",
       "      <th>26</th>\n",
       "      <td>s27</td>\n",
       "      <td>Movie</td>\n",
       "      <td>Minsara Kanavu</td>\n",
       "      <td>Rajiv Menon</td>\n",
       "      <td>Arvind Swamy, Kajol, Prabhu Deva, Nassar, S.P....</td>\n",
       "      <td>NaN</td>\n",
       "      <td>September 21, 2021</td>\n",
       "      <td>1997</td>\n",
       "      <td>TV-PG</td>\n",
       "      <td>147 min</td>\n",
       "      <td>Comedies, International Movies, Music &amp; Musicals</td>\n",
       "      <td>A tangled love triangle ensues when a man fall...</td>\n",
       "    </tr>\n",
       "    <tr>\n",
       "      <th>27</th>\n",
       "      <td>s28</td>\n",
       "      <td>Movie</td>\n",
       "      <td>Grown Ups</td>\n",
       "      <td>Dennis Dugan</td>\n",
       "      <td>Adam Sandler, Kevin James, Chris Rock, David S...</td>\n",
       "      <td>United States</td>\n",
       "      <td>September 20, 2021</td>\n",
       "      <td>2010</td>\n",
       "      <td>PG-13</td>\n",
       "      <td>103 min</td>\n",
       "      <td>Comedies</td>\n",
       "      <td>Mourning the loss of their beloved junior high...</td>\n",
       "    </tr>\n",
       "    <tr>\n",
       "      <th>28</th>\n",
       "      <td>s29</td>\n",
       "      <td>Movie</td>\n",
       "      <td>Dark Skies</td>\n",
       "      <td>Scott Stewart</td>\n",
       "      <td>Keri Russell, Josh Hamilton, J.K. Simmons, Dak...</td>\n",
       "      <td>United States</td>\n",
       "      <td>September 19, 2021</td>\n",
       "      <td>2013</td>\n",
       "      <td>PG-13</td>\n",
       "      <td>97 min</td>\n",
       "      <td>Horror Movies, Sci-Fi &amp; Fantasy</td>\n",
       "      <td>A family’s idyllic suburban life shatters when...</td>\n",
       "    </tr>\n",
       "    <tr>\n",
       "      <th>29</th>\n",
       "      <td>s30</td>\n",
       "      <td>Movie</td>\n",
       "      <td>Paranoia</td>\n",
       "      <td>Robert Luketic</td>\n",
       "      <td>Liam Hemsworth, Gary Oldman, Amber Heard, Harr...</td>\n",
       "      <td>United States, India, France</td>\n",
       "      <td>September 19, 2021</td>\n",
       "      <td>2013</td>\n",
       "      <td>PG-13</td>\n",
       "      <td>106 min</td>\n",
       "      <td>Thrillers</td>\n",
       "      <td>Blackmailed by his company's CEO, a low-level ...</td>\n",
       "    </tr>\n",
       "    <tr>\n",
       "      <th>...</th>\n",
       "      <td>...</td>\n",
       "      <td>...</td>\n",
       "      <td>...</td>\n",
       "      <td>...</td>\n",
       "      <td>...</td>\n",
       "      <td>...</td>\n",
       "      <td>...</td>\n",
       "      <td>...</td>\n",
       "      <td>...</td>\n",
       "      <td>...</td>\n",
       "      <td>...</td>\n",
       "      <td>...</td>\n",
       "    </tr>\n",
       "    <tr>\n",
       "      <th>8777</th>\n",
       "      <td>s8778</td>\n",
       "      <td>Movie</td>\n",
       "      <td>Yes or No</td>\n",
       "      <td>Saratswadee Wongsomphet</td>\n",
       "      <td>Sushar Manaying, Supanart Jittaleela, Arisara ...</td>\n",
       "      <td>Thailand</td>\n",
       "      <td>December 6, 2018</td>\n",
       "      <td>2010</td>\n",
       "      <td>TV-PG</td>\n",
       "      <td>111 min</td>\n",
       "      <td>International Movies, LGBTQ Movies, Romantic M...</td>\n",
       "      <td>Traditional girl Pie is initially uncomfortabl...</td>\n",
       "    </tr>\n",
       "    <tr>\n",
       "      <th>8778</th>\n",
       "      <td>s8779</td>\n",
       "      <td>Movie</td>\n",
       "      <td>Yes or No 2</td>\n",
       "      <td>Saratswadee Wongsomphet</td>\n",
       "      <td>Supanart Jittaleela, Sushar Manaying, Nisa Boo...</td>\n",
       "      <td>Thailand</td>\n",
       "      <td>November 8, 2018</td>\n",
       "      <td>2012</td>\n",
       "      <td>TV-PG</td>\n",
       "      <td>112 min</td>\n",
       "      <td>International Movies, LGBTQ Movies, Romantic M...</td>\n",
       "      <td>No longer university girls, Kim and Pie face n...</td>\n",
       "    </tr>\n",
       "    <tr>\n",
       "      <th>8779</th>\n",
       "      <td>s8780</td>\n",
       "      <td>Movie</td>\n",
       "      <td>Yes or No 2.5</td>\n",
       "      <td>Kirati Nakintanon</td>\n",
       "      <td>Supanart Jittaleela, Pimpakan Bangchawong, Cha...</td>\n",
       "      <td>Thailand</td>\n",
       "      <td>November 8, 2018</td>\n",
       "      <td>2015</td>\n",
       "      <td>TV-PG</td>\n",
       "      <td>107 min</td>\n",
       "      <td>International Movies, LGBTQ Movies, Romantic M...</td>\n",
       "      <td>Roommates Wine and Pie find their lives turned...</td>\n",
       "    </tr>\n",
       "    <tr>\n",
       "      <th>8780</th>\n",
       "      <td>s8781</td>\n",
       "      <td>TV Show</td>\n",
       "      <td>Yo-Kai Watch</td>\n",
       "      <td>NaN</td>\n",
       "      <td>Johnny Yong Bosch, J.W. Terry, Alicyn Packard,...</td>\n",
       "      <td>United States</td>\n",
       "      <td>April 1, 2016</td>\n",
       "      <td>2015</td>\n",
       "      <td>TV-Y7</td>\n",
       "      <td>1 Season</td>\n",
       "      <td>Anime Series, Kids' TV</td>\n",
       "      <td>Nate frees a mythical being trapped in a magic...</td>\n",
       "    </tr>\n",
       "    <tr>\n",
       "      <th>8781</th>\n",
       "      <td>s8782</td>\n",
       "      <td>Movie</td>\n",
       "      <td>Yo-Kai Watch: The Movie</td>\n",
       "      <td>Mark Risley</td>\n",
       "      <td>Johnny Yong Bosch, Joey D'Auria, Alicyn Packar...</td>\n",
       "      <td>Japan, United States</td>\n",
       "      <td>December 1, 2016</td>\n",
       "      <td>2016</td>\n",
       "      <td>TV-Y7</td>\n",
       "      <td>96 min</td>\n",
       "      <td>Anime Features, Children &amp; Family Movies</td>\n",
       "      <td>Nate's special Yo-Kai Watch is missing. He tra...</td>\n",
       "    </tr>\n",
       "    <tr>\n",
       "      <th>8782</th>\n",
       "      <td>s8783</td>\n",
       "      <td>Movie</td>\n",
       "      <td>Yoga Hosers</td>\n",
       "      <td>Kevin Smith</td>\n",
       "      <td>Harley Quinn Smith, Lily-Rose Depp, Johnny Dep...</td>\n",
       "      <td>United States</td>\n",
       "      <td>December 2, 2016</td>\n",
       "      <td>2016</td>\n",
       "      <td>PG-13</td>\n",
       "      <td>88 min</td>\n",
       "      <td>Comedies, Horror Movies, Independent Movies</td>\n",
       "      <td>With an all-important high school party at sta...</td>\n",
       "    </tr>\n",
       "    <tr>\n",
       "      <th>8783</th>\n",
       "      <td>s8784</td>\n",
       "      <td>TV Show</td>\n",
       "      <td>Yoko</td>\n",
       "      <td>NaN</td>\n",
       "      <td>Eileen Stevens, Alyson Leigh Rosenfeld, Sarah ...</td>\n",
       "      <td>NaN</td>\n",
       "      <td>June 23, 2018</td>\n",
       "      <td>2016</td>\n",
       "      <td>TV-Y</td>\n",
       "      <td>1 Season</td>\n",
       "      <td>Kids' TV</td>\n",
       "      <td>Friends Mai, Oto and Vik's games at the park b...</td>\n",
       "    </tr>\n",
       "    <tr>\n",
       "      <th>8784</th>\n",
       "      <td>s8785</td>\n",
       "      <td>Movie</td>\n",
       "      <td>Yoko and His Friends</td>\n",
       "      <td>NaN</td>\n",
       "      <td>Eileen Stevens, Alyson Leigh Rosenfeld, Sarah ...</td>\n",
       "      <td>Russia, Spain</td>\n",
       "      <td>June 23, 2018</td>\n",
       "      <td>2015</td>\n",
       "      <td>TV-Y</td>\n",
       "      <td>78 min</td>\n",
       "      <td>Children &amp; Family Movies</td>\n",
       "      <td>Vik meets new friends in a new city, where the...</td>\n",
       "    </tr>\n",
       "    <tr>\n",
       "      <th>8785</th>\n",
       "      <td>s8786</td>\n",
       "      <td>TV Show</td>\n",
       "      <td>YOM</td>\n",
       "      <td>NaN</td>\n",
       "      <td>Sairaj, Devyani Dagaonkar, Ketan Singh, Mayur ...</td>\n",
       "      <td>NaN</td>\n",
       "      <td>June 7, 2018</td>\n",
       "      <td>2016</td>\n",
       "      <td>TV-Y7</td>\n",
       "      <td>1 Season</td>\n",
       "      <td>Kids' TV</td>\n",
       "      <td>With the mind of a human being, and the body o...</td>\n",
       "    </tr>\n",
       "    <tr>\n",
       "      <th>8786</th>\n",
       "      <td>s8787</td>\n",
       "      <td>Movie</td>\n",
       "      <td>You Can Tutu</td>\n",
       "      <td>James Brown</td>\n",
       "      <td>Lily O'Regan, Jeannettsy Enriquez Borges, Joel...</td>\n",
       "      <td>United Kingdom</td>\n",
       "      <td>December 31, 2017</td>\n",
       "      <td>2017</td>\n",
       "      <td>TV-G</td>\n",
       "      <td>87 min</td>\n",
       "      <td>Children &amp; Family Movies</td>\n",
       "      <td>A gifted young ballet dancer struggles to find...</td>\n",
       "    </tr>\n",
       "    <tr>\n",
       "      <th>8787</th>\n",
       "      <td>s8788</td>\n",
       "      <td>Movie</td>\n",
       "      <td>You Can’t Fight Christmas</td>\n",
       "      <td>Kenny Young</td>\n",
       "      <td>Brely Evans, Andra Fuller, Persia White, Porsc...</td>\n",
       "      <td>United States</td>\n",
       "      <td>December 19, 2017</td>\n",
       "      <td>2017</td>\n",
       "      <td>TV-PG</td>\n",
       "      <td>85 min</td>\n",
       "      <td>Comedies, Romantic Movies</td>\n",
       "      <td>After stepping in to revitalize his family's h...</td>\n",
       "    </tr>\n",
       "    <tr>\n",
       "      <th>8788</th>\n",
       "      <td>s8789</td>\n",
       "      <td>Movie</td>\n",
       "      <td>You Carry Me</td>\n",
       "      <td>Ivona Juka</td>\n",
       "      <td>Lana Baric, Vojislav Brajovic, Natasa Janjic, ...</td>\n",
       "      <td>Croatia, Slovenia, Serbia, Montenegro</td>\n",
       "      <td>July 1, 2016</td>\n",
       "      <td>2015</td>\n",
       "      <td>TV-MA</td>\n",
       "      <td>157 min</td>\n",
       "      <td>Dramas, International Movies</td>\n",
       "      <td>A soap opera producer, director and makeup art...</td>\n",
       "    </tr>\n",
       "    <tr>\n",
       "      <th>8789</th>\n",
       "      <td>s8790</td>\n",
       "      <td>Movie</td>\n",
       "      <td>You Changed My Life</td>\n",
       "      <td>Cathy Garcia-Molina</td>\n",
       "      <td>John Lloyd Cruz, Sarah Geronimo, Rayver Cruz, ...</td>\n",
       "      <td>Philippines</td>\n",
       "      <td>February 27, 2019</td>\n",
       "      <td>2009</td>\n",
       "      <td>TV-PG</td>\n",
       "      <td>116 min</td>\n",
       "      <td>Comedies, Dramas, International Movies</td>\n",
       "      <td>Laida and Miggy think they've found perfect ha...</td>\n",
       "    </tr>\n",
       "    <tr>\n",
       "      <th>8790</th>\n",
       "      <td>s8791</td>\n",
       "      <td>Movie</td>\n",
       "      <td>You Don't Mess with the Zohan</td>\n",
       "      <td>Dennis Dugan</td>\n",
       "      <td>Adam Sandler, John Turturro, Emmanuelle Chriqu...</td>\n",
       "      <td>United States</td>\n",
       "      <td>September 1, 2019</td>\n",
       "      <td>2008</td>\n",
       "      <td>UR</td>\n",
       "      <td>113 min</td>\n",
       "      <td>Action &amp; Adventure, Comedies</td>\n",
       "      <td>An Israeli counterterrorism soldier with a sec...</td>\n",
       "    </tr>\n",
       "    <tr>\n",
       "      <th>8791</th>\n",
       "      <td>s8792</td>\n",
       "      <td>Movie</td>\n",
       "      <td>Young Adult</td>\n",
       "      <td>Jason Reitman</td>\n",
       "      <td>Charlize Theron, Patton Oswalt, Patrick Wilson...</td>\n",
       "      <td>United States</td>\n",
       "      <td>November 20, 2019</td>\n",
       "      <td>2011</td>\n",
       "      <td>R</td>\n",
       "      <td>94 min</td>\n",
       "      <td>Comedies, Dramas, Independent Movies</td>\n",
       "      <td>When a divorced writer gets a letter from an o...</td>\n",
       "    </tr>\n",
       "    <tr>\n",
       "      <th>8792</th>\n",
       "      <td>s8793</td>\n",
       "      <td>Movie</td>\n",
       "      <td>Young Tiger</td>\n",
       "      <td>Mu Chu</td>\n",
       "      <td>Qiu Yuen, Charlie Chin, Jackie Chan, Hu Chin, ...</td>\n",
       "      <td>Hong Kong</td>\n",
       "      <td>November 1, 2016</td>\n",
       "      <td>1973</td>\n",
       "      <td>NR</td>\n",
       "      <td>81 min</td>\n",
       "      <td>Action &amp; Adventure, International Movies</td>\n",
       "      <td>Aided only by a tough female police officer, a...</td>\n",
       "    </tr>\n",
       "    <tr>\n",
       "      <th>8793</th>\n",
       "      <td>s8794</td>\n",
       "      <td>Movie</td>\n",
       "      <td>Yours, Mine and Ours</td>\n",
       "      <td>Raja Gosnell</td>\n",
       "      <td>Dennis Quaid, Rene Russo, Sean Faris, Katija P...</td>\n",
       "      <td>United States</td>\n",
       "      <td>November 20, 2019</td>\n",
       "      <td>2005</td>\n",
       "      <td>PG</td>\n",
       "      <td>88 min</td>\n",
       "      <td>Children &amp; Family Movies, Comedies</td>\n",
       "      <td>When a father of eight and a mother of 10 prep...</td>\n",
       "    </tr>\n",
       "    <tr>\n",
       "      <th>8794</th>\n",
       "      <td>s8795</td>\n",
       "      <td>Movie</td>\n",
       "      <td>اشتباك</td>\n",
       "      <td>Mohamed Diab</td>\n",
       "      <td>Nelly Karim, Hany Adel, Tarek Abdel Aziz, Ahme...</td>\n",
       "      <td>Egypt, France</td>\n",
       "      <td>October 11, 2018</td>\n",
       "      <td>2016</td>\n",
       "      <td>TV-14</td>\n",
       "      <td>98 min</td>\n",
       "      <td>Dramas, Independent Movies, International Movies</td>\n",
       "      <td>Amid the tumult following Egyptian President M...</td>\n",
       "    </tr>\n",
       "    <tr>\n",
       "      <th>8795</th>\n",
       "      <td>s8796</td>\n",
       "      <td>TV Show</td>\n",
       "      <td>Yu-Gi-Oh! Arc-V</td>\n",
       "      <td>NaN</td>\n",
       "      <td>Mike Liscio, Emily Bauer, Billy Bob Thompson, ...</td>\n",
       "      <td>Japan, Canada</td>\n",
       "      <td>May 1, 2018</td>\n",
       "      <td>2015</td>\n",
       "      <td>TV-Y7</td>\n",
       "      <td>2 Seasons</td>\n",
       "      <td>Anime Series, Kids' TV</td>\n",
       "      <td>Now that he's discovered the Pendulum Summonin...</td>\n",
       "    </tr>\n",
       "    <tr>\n",
       "      <th>8796</th>\n",
       "      <td>s8797</td>\n",
       "      <td>TV Show</td>\n",
       "      <td>Yunus Emre</td>\n",
       "      <td>NaN</td>\n",
       "      <td>Gökhan Atalay, Payidar Tüfekçioglu, Baran Akbu...</td>\n",
       "      <td>Turkey</td>\n",
       "      <td>January 17, 2017</td>\n",
       "      <td>2016</td>\n",
       "      <td>TV-PG</td>\n",
       "      <td>2 Seasons</td>\n",
       "      <td>International TV Shows, TV Dramas</td>\n",
       "      <td>During the Mongol invasions, Yunus Emre leaves...</td>\n",
       "    </tr>\n",
       "    <tr>\n",
       "      <th>8797</th>\n",
       "      <td>s8798</td>\n",
       "      <td>TV Show</td>\n",
       "      <td>Zak Storm</td>\n",
       "      <td>NaN</td>\n",
       "      <td>Michael Johnston, Jessica Gee-George, Christin...</td>\n",
       "      <td>United States, France, South Korea, Indonesia</td>\n",
       "      <td>September 13, 2018</td>\n",
       "      <td>2016</td>\n",
       "      <td>TV-Y7</td>\n",
       "      <td>3 Seasons</td>\n",
       "      <td>Kids' TV</td>\n",
       "      <td>Teen surfer Zak Storm is mysteriously transpor...</td>\n",
       "    </tr>\n",
       "    <tr>\n",
       "      <th>8798</th>\n",
       "      <td>s8799</td>\n",
       "      <td>Movie</td>\n",
       "      <td>Zed Plus</td>\n",
       "      <td>Chandra Prakash Dwivedi</td>\n",
       "      <td>Adil Hussain, Mona Singh, K.K. Raina, Sanjay M...</td>\n",
       "      <td>India</td>\n",
       "      <td>December 31, 2019</td>\n",
       "      <td>2014</td>\n",
       "      <td>TV-MA</td>\n",
       "      <td>131 min</td>\n",
       "      <td>Comedies, Dramas, International Movies</td>\n",
       "      <td>A philandering small-town mechanic's political...</td>\n",
       "    </tr>\n",
       "    <tr>\n",
       "      <th>8799</th>\n",
       "      <td>s8800</td>\n",
       "      <td>Movie</td>\n",
       "      <td>Zenda</td>\n",
       "      <td>Avadhoot Gupte</td>\n",
       "      <td>Santosh Juvekar, Siddharth Chandekar, Sachit P...</td>\n",
       "      <td>India</td>\n",
       "      <td>February 15, 2018</td>\n",
       "      <td>2009</td>\n",
       "      <td>TV-14</td>\n",
       "      <td>120 min</td>\n",
       "      <td>Dramas, International Movies</td>\n",
       "      <td>A change in the leadership of a political part...</td>\n",
       "    </tr>\n",
       "    <tr>\n",
       "      <th>8800</th>\n",
       "      <td>s8801</td>\n",
       "      <td>TV Show</td>\n",
       "      <td>Zindagi Gulzar Hai</td>\n",
       "      <td>NaN</td>\n",
       "      <td>Sanam Saeed, Fawad Khan, Ayesha Omer, Mehreen ...</td>\n",
       "      <td>Pakistan</td>\n",
       "      <td>December 15, 2016</td>\n",
       "      <td>2012</td>\n",
       "      <td>TV-PG</td>\n",
       "      <td>1 Season</td>\n",
       "      <td>International TV Shows, Romantic TV Shows, TV ...</td>\n",
       "      <td>Strong-willed, middle-class Kashaf and carefre...</td>\n",
       "    </tr>\n",
       "    <tr>\n",
       "      <th>8801</th>\n",
       "      <td>s8802</td>\n",
       "      <td>Movie</td>\n",
       "      <td>Zinzana</td>\n",
       "      <td>Majid Al Ansari</td>\n",
       "      <td>Ali Suliman, Saleh Bakri, Yasa, Ali Al-Jabri, ...</td>\n",
       "      <td>United Arab Emirates, Jordan</td>\n",
       "      <td>March 9, 2016</td>\n",
       "      <td>2015</td>\n",
       "      <td>TV-MA</td>\n",
       "      <td>96 min</td>\n",
       "      <td>Dramas, International Movies, Thrillers</td>\n",
       "      <td>Recovering alcoholic Talal wakes up inside a s...</td>\n",
       "    </tr>\n",
       "    <tr>\n",
       "      <th>8802</th>\n",
       "      <td>s8803</td>\n",
       "      <td>Movie</td>\n",
       "      <td>Zodiac</td>\n",
       "      <td>David Fincher</td>\n",
       "      <td>Mark Ruffalo, Jake Gyllenhaal, Robert Downey J...</td>\n",
       "      <td>United States</td>\n",
       "      <td>November 20, 2019</td>\n",
       "      <td>2007</td>\n",
       "      <td>R</td>\n",
       "      <td>158 min</td>\n",
       "      <td>Cult Movies, Dramas, Thrillers</td>\n",
       "      <td>A political cartoonist, a crime reporter and a...</td>\n",
       "    </tr>\n",
       "    <tr>\n",
       "      <th>8803</th>\n",
       "      <td>s8804</td>\n",
       "      <td>TV Show</td>\n",
       "      <td>Zombie Dumb</td>\n",
       "      <td>NaN</td>\n",
       "      <td>NaN</td>\n",
       "      <td>NaN</td>\n",
       "      <td>July 1, 2019</td>\n",
       "      <td>2018</td>\n",
       "      <td>TV-Y7</td>\n",
       "      <td>2 Seasons</td>\n",
       "      <td>Kids' TV, Korean TV Shows, TV Comedies</td>\n",
       "      <td>While living alone in a spooky town, a young g...</td>\n",
       "    </tr>\n",
       "    <tr>\n",
       "      <th>8804</th>\n",
       "      <td>s8805</td>\n",
       "      <td>Movie</td>\n",
       "      <td>Zombieland</td>\n",
       "      <td>Ruben Fleischer</td>\n",
       "      <td>Jesse Eisenberg, Woody Harrelson, Emma Stone, ...</td>\n",
       "      <td>United States</td>\n",
       "      <td>November 1, 2019</td>\n",
       "      <td>2009</td>\n",
       "      <td>R</td>\n",
       "      <td>88 min</td>\n",
       "      <td>Comedies, Horror Movies</td>\n",
       "      <td>Looking to survive in a world taken over by zo...</td>\n",
       "    </tr>\n",
       "    <tr>\n",
       "      <th>8805</th>\n",
       "      <td>s8806</td>\n",
       "      <td>Movie</td>\n",
       "      <td>Zoom</td>\n",
       "      <td>Peter Hewitt</td>\n",
       "      <td>Tim Allen, Courteney Cox, Chevy Chase, Kate Ma...</td>\n",
       "      <td>United States</td>\n",
       "      <td>January 11, 2020</td>\n",
       "      <td>2006</td>\n",
       "      <td>PG</td>\n",
       "      <td>88 min</td>\n",
       "      <td>Children &amp; Family Movies, Comedies</td>\n",
       "      <td>Dragged from civilian life, a former superhero...</td>\n",
       "    </tr>\n",
       "    <tr>\n",
       "      <th>8806</th>\n",
       "      <td>s8807</td>\n",
       "      <td>Movie</td>\n",
       "      <td>Zubaan</td>\n",
       "      <td>Mozez Singh</td>\n",
       "      <td>Vicky Kaushal, Sarah-Jane Dias, Raaghav Chanan...</td>\n",
       "      <td>India</td>\n",
       "      <td>March 2, 2019</td>\n",
       "      <td>2015</td>\n",
       "      <td>TV-14</td>\n",
       "      <td>111 min</td>\n",
       "      <td>Dramas, International Movies, Music &amp; Musicals</td>\n",
       "      <td>A scrappy but poor boy worms his way into a ty...</td>\n",
       "    </tr>\n",
       "  </tbody>\n",
       "</table>\n",
       "<p>8807 rows × 12 columns</p>\n",
       "</div>"
      ],
      "text/plain": [
       "     show_id     type                                              title  \\\n",
       "0         s1    Movie                               Dick Johnson Is Dead   \n",
       "1         s2  TV Show                                      Blood & Water   \n",
       "2         s3  TV Show                                          Ganglands   \n",
       "3         s4  TV Show                              Jailbirds New Orleans   \n",
       "4         s5  TV Show                                       Kota Factory   \n",
       "5         s6  TV Show                                      Midnight Mass   \n",
       "6         s7    Movie                   My Little Pony: A New Generation   \n",
       "7         s8    Movie                                            Sankofa   \n",
       "8         s9  TV Show                      The Great British Baking Show   \n",
       "9        s10    Movie                                       The Starling   \n",
       "10       s11  TV Show                Vendetta: Truth, Lies and The Mafia   \n",
       "11       s12  TV Show                                   Bangkok Breaking   \n",
       "12       s13    Movie                                       Je Suis Karl   \n",
       "13       s14    Movie                   Confessions of an Invisible Girl   \n",
       "14       s15  TV Show                    Crime Stories: India Detectives   \n",
       "15       s16  TV Show                                  Dear White People   \n",
       "16       s17    Movie  Europe's Most Dangerous Man: Otto Skorzeny in ...   \n",
       "17       s18  TV Show                                    Falsa identidad   \n",
       "18       s19    Movie                                          Intrusion   \n",
       "19       s20  TV Show                                             Jaguar   \n",
       "20       s21  TV Show    Monsters Inside: The 24 Faces of Billy Milligan   \n",
       "21       s22  TV Show                             Resurrection: Ertugrul   \n",
       "22       s23    Movie                                    Avvai Shanmughi   \n",
       "23       s24    Movie       Go! Go! Cory Carson: Chrissy Takes the Wheel   \n",
       "24       s25    Movie                                              Jeans   \n",
       "25       s26  TV Show                               Love on the Spectrum   \n",
       "26       s27    Movie                                     Minsara Kanavu   \n",
       "27       s28    Movie                                          Grown Ups   \n",
       "28       s29    Movie                                         Dark Skies   \n",
       "29       s30    Movie                                           Paranoia   \n",
       "...      ...      ...                                                ...   \n",
       "8777   s8778    Movie                                          Yes or No   \n",
       "8778   s8779    Movie                                        Yes or No 2   \n",
       "8779   s8780    Movie                                      Yes or No 2.5   \n",
       "8780   s8781  TV Show                                       Yo-Kai Watch   \n",
       "8781   s8782    Movie                            Yo-Kai Watch: The Movie   \n",
       "8782   s8783    Movie                                        Yoga Hosers   \n",
       "8783   s8784  TV Show                                               Yoko   \n",
       "8784   s8785    Movie                               Yoko and His Friends   \n",
       "8785   s8786  TV Show                                                YOM   \n",
       "8786   s8787    Movie                                       You Can Tutu   \n",
       "8787   s8788    Movie                          You Can’t Fight Christmas   \n",
       "8788   s8789    Movie                                       You Carry Me   \n",
       "8789   s8790    Movie                                You Changed My Life   \n",
       "8790   s8791    Movie                      You Don't Mess with the Zohan   \n",
       "8791   s8792    Movie                                        Young Adult   \n",
       "8792   s8793    Movie                                        Young Tiger   \n",
       "8793   s8794    Movie                               Yours, Mine and Ours   \n",
       "8794   s8795    Movie                                             اشتباك   \n",
       "8795   s8796  TV Show                                    Yu-Gi-Oh! Arc-V   \n",
       "8796   s8797  TV Show                                         Yunus Emre   \n",
       "8797   s8798  TV Show                                          Zak Storm   \n",
       "8798   s8799    Movie                                           Zed Plus   \n",
       "8799   s8800    Movie                                              Zenda   \n",
       "8800   s8801  TV Show                                 Zindagi Gulzar Hai   \n",
       "8801   s8802    Movie                                            Zinzana   \n",
       "8802   s8803    Movie                                             Zodiac   \n",
       "8803   s8804  TV Show                                        Zombie Dumb   \n",
       "8804   s8805    Movie                                         Zombieland   \n",
       "8805   s8806    Movie                                               Zoom   \n",
       "8806   s8807    Movie                                             Zubaan   \n",
       "\n",
       "                                           director  \\\n",
       "0                                   Kirsten Johnson   \n",
       "1                                               NaN   \n",
       "2                                   Julien Leclercq   \n",
       "3                                               NaN   \n",
       "4                                               NaN   \n",
       "5                                     Mike Flanagan   \n",
       "6                     Robert Cullen, José Luis Ucha   \n",
       "7                                      Haile Gerima   \n",
       "8                                   Andy Devonshire   \n",
       "9                                    Theodore Melfi   \n",
       "10                                              NaN   \n",
       "11                                Kongkiat Komesiri   \n",
       "12                              Christian Schwochow   \n",
       "13                                    Bruno Garotti   \n",
       "14                                              NaN   \n",
       "15                                              NaN   \n",
       "16    Pedro de Echave García, Pablo Azorín Williams   \n",
       "17                                              NaN   \n",
       "18                                       Adam Salky   \n",
       "19                                              NaN   \n",
       "20                                  Olivier Megaton   \n",
       "21                                              NaN   \n",
       "22                                   K.S. Ravikumar   \n",
       "23                          Alex Woo, Stanley Moore   \n",
       "24                                       S. Shankar   \n",
       "25                                              NaN   \n",
       "26                                      Rajiv Menon   \n",
       "27                                     Dennis Dugan   \n",
       "28                                    Scott Stewart   \n",
       "29                                   Robert Luketic   \n",
       "...                                             ...   \n",
       "8777                        Saratswadee Wongsomphet   \n",
       "8778                        Saratswadee Wongsomphet   \n",
       "8779                              Kirati Nakintanon   \n",
       "8780                                            NaN   \n",
       "8781                                    Mark Risley   \n",
       "8782                                    Kevin Smith   \n",
       "8783                                            NaN   \n",
       "8784                                            NaN   \n",
       "8785                                            NaN   \n",
       "8786                                    James Brown   \n",
       "8787                                    Kenny Young   \n",
       "8788                                     Ivona Juka   \n",
       "8789                            Cathy Garcia-Molina   \n",
       "8790                                   Dennis Dugan   \n",
       "8791                                  Jason Reitman   \n",
       "8792                                         Mu Chu   \n",
       "8793                                   Raja Gosnell   \n",
       "8794                                   Mohamed Diab   \n",
       "8795                                            NaN   \n",
       "8796                                            NaN   \n",
       "8797                                            NaN   \n",
       "8798                        Chandra Prakash Dwivedi   \n",
       "8799                                 Avadhoot Gupte   \n",
       "8800                                            NaN   \n",
       "8801                                Majid Al Ansari   \n",
       "8802                                  David Fincher   \n",
       "8803                                            NaN   \n",
       "8804                                Ruben Fleischer   \n",
       "8805                                   Peter Hewitt   \n",
       "8806                                    Mozez Singh   \n",
       "\n",
       "                                                   cast  \\\n",
       "0                                                   NaN   \n",
       "1     Ama Qamata, Khosi Ngema, Gail Mabalane, Thaban...   \n",
       "2     Sami Bouajila, Tracy Gotoas, Samuel Jouy, Nabi...   \n",
       "3                                                   NaN   \n",
       "4     Mayur More, Jitendra Kumar, Ranjan Raj, Alam K...   \n",
       "5     Kate Siegel, Zach Gilford, Hamish Linklater, H...   \n",
       "6     Vanessa Hudgens, Kimiko Glenn, James Marsden, ...   \n",
       "7     Kofi Ghanaba, Oyafunmike Ogunlano, Alexandra D...   \n",
       "8     Mel Giedroyc, Sue Perkins, Mary Berry, Paul Ho...   \n",
       "9     Melissa McCarthy, Chris O'Dowd, Kevin Kline, T...   \n",
       "10                                                  NaN   \n",
       "11    Sukollawat Kanarot, Sushar Manaying, Pavarit M...   \n",
       "12    Luna Wedler, Jannis Niewöhner, Milan Peschel, ...   \n",
       "13    Klara Castanho, Lucca Picon, Júlia Gomes, Marc...   \n",
       "14                                                  NaN   \n",
       "15    Logan Browning, Brandon P. Bell, DeRon Horton,...   \n",
       "16                                                  NaN   \n",
       "17    Luis Ernesto Franco, Camila Sodi, Sergio Goyri...   \n",
       "18    Freida Pinto, Logan Marshall-Green, Robert Joh...   \n",
       "19    Blanca Suárez, Iván Marcos, Óscar Casas, Adriá...   \n",
       "20                                                  NaN   \n",
       "21    Engin Altan Düzyatan, Serdar Gökhan, Hülya Dar...   \n",
       "22    Kamal Hassan, Meena, Gemini Ganesan, Heera Raj...   \n",
       "23    Maisie Benson, Paul Killam, Kerry Gudjohnsen, ...   \n",
       "24    Prashanth, Aishwarya Rai Bachchan, Sri Lakshmi...   \n",
       "25                                     Brooke Satchwell   \n",
       "26    Arvind Swamy, Kajol, Prabhu Deva, Nassar, S.P....   \n",
       "27    Adam Sandler, Kevin James, Chris Rock, David S...   \n",
       "28    Keri Russell, Josh Hamilton, J.K. Simmons, Dak...   \n",
       "29    Liam Hemsworth, Gary Oldman, Amber Heard, Harr...   \n",
       "...                                                 ...   \n",
       "8777  Sushar Manaying, Supanart Jittaleela, Arisara ...   \n",
       "8778  Supanart Jittaleela, Sushar Manaying, Nisa Boo...   \n",
       "8779  Supanart Jittaleela, Pimpakan Bangchawong, Cha...   \n",
       "8780  Johnny Yong Bosch, J.W. Terry, Alicyn Packard,...   \n",
       "8781  Johnny Yong Bosch, Joey D'Auria, Alicyn Packar...   \n",
       "8782  Harley Quinn Smith, Lily-Rose Depp, Johnny Dep...   \n",
       "8783  Eileen Stevens, Alyson Leigh Rosenfeld, Sarah ...   \n",
       "8784  Eileen Stevens, Alyson Leigh Rosenfeld, Sarah ...   \n",
       "8785  Sairaj, Devyani Dagaonkar, Ketan Singh, Mayur ...   \n",
       "8786  Lily O'Regan, Jeannettsy Enriquez Borges, Joel...   \n",
       "8787  Brely Evans, Andra Fuller, Persia White, Porsc...   \n",
       "8788  Lana Baric, Vojislav Brajovic, Natasa Janjic, ...   \n",
       "8789  John Lloyd Cruz, Sarah Geronimo, Rayver Cruz, ...   \n",
       "8790  Adam Sandler, John Turturro, Emmanuelle Chriqu...   \n",
       "8791  Charlize Theron, Patton Oswalt, Patrick Wilson...   \n",
       "8792  Qiu Yuen, Charlie Chin, Jackie Chan, Hu Chin, ...   \n",
       "8793  Dennis Quaid, Rene Russo, Sean Faris, Katija P...   \n",
       "8794  Nelly Karim, Hany Adel, Tarek Abdel Aziz, Ahme...   \n",
       "8795  Mike Liscio, Emily Bauer, Billy Bob Thompson, ...   \n",
       "8796  Gökhan Atalay, Payidar Tüfekçioglu, Baran Akbu...   \n",
       "8797  Michael Johnston, Jessica Gee-George, Christin...   \n",
       "8798  Adil Hussain, Mona Singh, K.K. Raina, Sanjay M...   \n",
       "8799  Santosh Juvekar, Siddharth Chandekar, Sachit P...   \n",
       "8800  Sanam Saeed, Fawad Khan, Ayesha Omer, Mehreen ...   \n",
       "8801  Ali Suliman, Saleh Bakri, Yasa, Ali Al-Jabri, ...   \n",
       "8802  Mark Ruffalo, Jake Gyllenhaal, Robert Downey J...   \n",
       "8803                                                NaN   \n",
       "8804  Jesse Eisenberg, Woody Harrelson, Emma Stone, ...   \n",
       "8805  Tim Allen, Courteney Cox, Chevy Chase, Kate Ma...   \n",
       "8806  Vicky Kaushal, Sarah-Jane Dias, Raaghav Chanan...   \n",
       "\n",
       "                                                country          date_added  \\\n",
       "0                                         United States  September 25, 2021   \n",
       "1                                          South Africa  September 24, 2021   \n",
       "2                                                   NaN  September 24, 2021   \n",
       "3                                                   NaN  September 24, 2021   \n",
       "4                                                 India  September 24, 2021   \n",
       "5                                                   NaN  September 24, 2021   \n",
       "6                                                   NaN  September 24, 2021   \n",
       "7     United States, Ghana, Burkina Faso, United Kin...  September 24, 2021   \n",
       "8                                        United Kingdom  September 24, 2021   \n",
       "9                                         United States  September 24, 2021   \n",
       "10                                                  NaN  September 24, 2021   \n",
       "11                                                  NaN  September 23, 2021   \n",
       "12                              Germany, Czech Republic  September 23, 2021   \n",
       "13                                                  NaN  September 22, 2021   \n",
       "14                                                  NaN  September 22, 2021   \n",
       "15                                        United States  September 22, 2021   \n",
       "16                                                  NaN  September 22, 2021   \n",
       "17                                               Mexico  September 22, 2021   \n",
       "18                                                  NaN  September 22, 2021   \n",
       "19                                                  NaN  September 22, 2021   \n",
       "20                                                  NaN  September 22, 2021   \n",
       "21                                               Turkey  September 22, 2021   \n",
       "22                                                  NaN  September 21, 2021   \n",
       "23                                                  NaN  September 21, 2021   \n",
       "24                                                India  September 21, 2021   \n",
       "25                                            Australia  September 21, 2021   \n",
       "26                                                  NaN  September 21, 2021   \n",
       "27                                        United States  September 20, 2021   \n",
       "28                                        United States  September 19, 2021   \n",
       "29                         United States, India, France  September 19, 2021   \n",
       "...                                                 ...                 ...   \n",
       "8777                                           Thailand    December 6, 2018   \n",
       "8778                                           Thailand    November 8, 2018   \n",
       "8779                                           Thailand    November 8, 2018   \n",
       "8780                                      United States       April 1, 2016   \n",
       "8781                               Japan, United States    December 1, 2016   \n",
       "8782                                      United States    December 2, 2016   \n",
       "8783                                                NaN       June 23, 2018   \n",
       "8784                                      Russia, Spain       June 23, 2018   \n",
       "8785                                                NaN        June 7, 2018   \n",
       "8786                                     United Kingdom   December 31, 2017   \n",
       "8787                                      United States   December 19, 2017   \n",
       "8788              Croatia, Slovenia, Serbia, Montenegro        July 1, 2016   \n",
       "8789                                        Philippines   February 27, 2019   \n",
       "8790                                      United States   September 1, 2019   \n",
       "8791                                      United States   November 20, 2019   \n",
       "8792                                          Hong Kong    November 1, 2016   \n",
       "8793                                      United States   November 20, 2019   \n",
       "8794                                      Egypt, France    October 11, 2018   \n",
       "8795                                      Japan, Canada         May 1, 2018   \n",
       "8796                                             Turkey    January 17, 2017   \n",
       "8797      United States, France, South Korea, Indonesia  September 13, 2018   \n",
       "8798                                              India   December 31, 2019   \n",
       "8799                                              India   February 15, 2018   \n",
       "8800                                           Pakistan   December 15, 2016   \n",
       "8801                       United Arab Emirates, Jordan       March 9, 2016   \n",
       "8802                                      United States   November 20, 2019   \n",
       "8803                                                NaN        July 1, 2019   \n",
       "8804                                      United States    November 1, 2019   \n",
       "8805                                      United States    January 11, 2020   \n",
       "8806                                              India       March 2, 2019   \n",
       "\n",
       "      release_year rating   duration  \\\n",
       "0             2020  PG-13     90 min   \n",
       "1             2021  TV-MA  2 Seasons   \n",
       "2             2021  TV-MA   1 Season   \n",
       "3             2021  TV-MA   1 Season   \n",
       "4             2021  TV-MA  2 Seasons   \n",
       "5             2021  TV-MA   1 Season   \n",
       "6             2021     PG     91 min   \n",
       "7             1993  TV-MA    125 min   \n",
       "8             2021  TV-14  9 Seasons   \n",
       "9             2021  PG-13    104 min   \n",
       "10            2021  TV-MA   1 Season   \n",
       "11            2021  TV-MA   1 Season   \n",
       "12            2021  TV-MA    127 min   \n",
       "13            2021  TV-PG     91 min   \n",
       "14            2021  TV-MA   1 Season   \n",
       "15            2021  TV-MA  4 Seasons   \n",
       "16            2020  TV-MA     67 min   \n",
       "17            2020  TV-MA  2 Seasons   \n",
       "18            2021  TV-14     94 min   \n",
       "19            2021  TV-MA   1 Season   \n",
       "20            2021  TV-14   1 Season   \n",
       "21            2018  TV-14  5 Seasons   \n",
       "22            1996  TV-PG    161 min   \n",
       "23            2021   TV-Y     61 min   \n",
       "24            1998  TV-14    166 min   \n",
       "25            2021  TV-14  2 Seasons   \n",
       "26            1997  TV-PG    147 min   \n",
       "27            2010  PG-13    103 min   \n",
       "28            2013  PG-13     97 min   \n",
       "29            2013  PG-13    106 min   \n",
       "...            ...    ...        ...   \n",
       "8777          2010  TV-PG    111 min   \n",
       "8778          2012  TV-PG    112 min   \n",
       "8779          2015  TV-PG    107 min   \n",
       "8780          2015  TV-Y7   1 Season   \n",
       "8781          2016  TV-Y7     96 min   \n",
       "8782          2016  PG-13     88 min   \n",
       "8783          2016   TV-Y   1 Season   \n",
       "8784          2015   TV-Y     78 min   \n",
       "8785          2016  TV-Y7   1 Season   \n",
       "8786          2017   TV-G     87 min   \n",
       "8787          2017  TV-PG     85 min   \n",
       "8788          2015  TV-MA    157 min   \n",
       "8789          2009  TV-PG    116 min   \n",
       "8790          2008     UR    113 min   \n",
       "8791          2011      R     94 min   \n",
       "8792          1973     NR     81 min   \n",
       "8793          2005     PG     88 min   \n",
       "8794          2016  TV-14     98 min   \n",
       "8795          2015  TV-Y7  2 Seasons   \n",
       "8796          2016  TV-PG  2 Seasons   \n",
       "8797          2016  TV-Y7  3 Seasons   \n",
       "8798          2014  TV-MA    131 min   \n",
       "8799          2009  TV-14    120 min   \n",
       "8800          2012  TV-PG   1 Season   \n",
       "8801          2015  TV-MA     96 min   \n",
       "8802          2007      R    158 min   \n",
       "8803          2018  TV-Y7  2 Seasons   \n",
       "8804          2009      R     88 min   \n",
       "8805          2006     PG     88 min   \n",
       "8806          2015  TV-14    111 min   \n",
       "\n",
       "                                              listed_in  \\\n",
       "0                                         Documentaries   \n",
       "1       International TV Shows, TV Dramas, TV Mysteries   \n",
       "2     Crime TV Shows, International TV Shows, TV Act...   \n",
       "3                                Docuseries, Reality TV   \n",
       "4     International TV Shows, Romantic TV Shows, TV ...   \n",
       "5                    TV Dramas, TV Horror, TV Mysteries   \n",
       "6                              Children & Family Movies   \n",
       "7      Dramas, Independent Movies, International Movies   \n",
       "8                          British TV Shows, Reality TV   \n",
       "9                                      Comedies, Dramas   \n",
       "10    Crime TV Shows, Docuseries, International TV S...   \n",
       "11    Crime TV Shows, International TV Shows, TV Act...   \n",
       "12                         Dramas, International Movies   \n",
       "13                   Children & Family Movies, Comedies   \n",
       "14         British TV Shows, Crime TV Shows, Docuseries   \n",
       "15                               TV Comedies, TV Dramas   \n",
       "16                  Documentaries, International Movies   \n",
       "17    Crime TV Shows, Spanish-Language TV Shows, TV ...   \n",
       "18                                            Thrillers   \n",
       "19    International TV Shows, Spanish-Language TV Sh...   \n",
       "20    Crime TV Shows, Docuseries, International TV S...   \n",
       "21    International TV Shows, TV Action & Adventure,...   \n",
       "22                       Comedies, International Movies   \n",
       "23                             Children & Family Movies   \n",
       "24      Comedies, International Movies, Romantic Movies   \n",
       "25       Docuseries, International TV Shows, Reality TV   \n",
       "26     Comedies, International Movies, Music & Musicals   \n",
       "27                                             Comedies   \n",
       "28                      Horror Movies, Sci-Fi & Fantasy   \n",
       "29                                            Thrillers   \n",
       "...                                                 ...   \n",
       "8777  International Movies, LGBTQ Movies, Romantic M...   \n",
       "8778  International Movies, LGBTQ Movies, Romantic M...   \n",
       "8779  International Movies, LGBTQ Movies, Romantic M...   \n",
       "8780                             Anime Series, Kids' TV   \n",
       "8781           Anime Features, Children & Family Movies   \n",
       "8782        Comedies, Horror Movies, Independent Movies   \n",
       "8783                                           Kids' TV   \n",
       "8784                           Children & Family Movies   \n",
       "8785                                           Kids' TV   \n",
       "8786                           Children & Family Movies   \n",
       "8787                          Comedies, Romantic Movies   \n",
       "8788                       Dramas, International Movies   \n",
       "8789             Comedies, Dramas, International Movies   \n",
       "8790                       Action & Adventure, Comedies   \n",
       "8791               Comedies, Dramas, Independent Movies   \n",
       "8792           Action & Adventure, International Movies   \n",
       "8793                 Children & Family Movies, Comedies   \n",
       "8794   Dramas, Independent Movies, International Movies   \n",
       "8795                             Anime Series, Kids' TV   \n",
       "8796                  International TV Shows, TV Dramas   \n",
       "8797                                           Kids' TV   \n",
       "8798             Comedies, Dramas, International Movies   \n",
       "8799                       Dramas, International Movies   \n",
       "8800  International TV Shows, Romantic TV Shows, TV ...   \n",
       "8801            Dramas, International Movies, Thrillers   \n",
       "8802                     Cult Movies, Dramas, Thrillers   \n",
       "8803             Kids' TV, Korean TV Shows, TV Comedies   \n",
       "8804                            Comedies, Horror Movies   \n",
       "8805                 Children & Family Movies, Comedies   \n",
       "8806     Dramas, International Movies, Music & Musicals   \n",
       "\n",
       "                                            description  \n",
       "0     As her father nears the end of his life, filmm...  \n",
       "1     After crossing paths at a party, a Cape Town t...  \n",
       "2     To protect his family from a powerful drug lor...  \n",
       "3     Feuds, flirtations and toilet talk go down amo...  \n",
       "4     In a city of coaching centers known to train I...  \n",
       "5     The arrival of a charismatic young priest brin...  \n",
       "6     Equestria's divided. But a bright-eyed hero be...  \n",
       "7     On a photo shoot in Ghana, an American model s...  \n",
       "8     A talented batch of amateur bakers face off in...  \n",
       "9     A woman adjusting to life after a loss contend...  \n",
       "10    Sicily boasts a bold \"Anti-Mafia\" coalition. B...  \n",
       "11    Struggling to earn a living in Bangkok, a man ...  \n",
       "12    After most of her family is murdered in a terr...  \n",
       "13    When the clever but socially-awkward Tetê join...  \n",
       "14    Cameras following Bengaluru police on the job ...  \n",
       "15    Students of color navigate the daily slights a...  \n",
       "16    Declassified documents reveal the post-WWII li...  \n",
       "17    Strangers Diego and Isabel flee their home in ...  \n",
       "18    After a deadly home invasion at a couple’s new...  \n",
       "19    In the 1960s, a Holocaust survivor joins a gro...  \n",
       "20    In the late 1970s, an accused serial rapist cl...  \n",
       "21    When a good deed unwittingly endangers his cla...  \n",
       "22    Newly divorced and denied visitation rights wi...  \n",
       "23    From arcade games to sled days and hiccup cure...  \n",
       "24    When the father of the man she loves insists t...  \n",
       "25    Finding love can be hard for anyone. For young...  \n",
       "26    A tangled love triangle ensues when a man fall...  \n",
       "27    Mourning the loss of their beloved junior high...  \n",
       "28    A family’s idyllic suburban life shatters when...  \n",
       "29    Blackmailed by his company's CEO, a low-level ...  \n",
       "...                                                 ...  \n",
       "8777  Traditional girl Pie is initially uncomfortabl...  \n",
       "8778  No longer university girls, Kim and Pie face n...  \n",
       "8779  Roommates Wine and Pie find their lives turned...  \n",
       "8780  Nate frees a mythical being trapped in a magic...  \n",
       "8781  Nate's special Yo-Kai Watch is missing. He tra...  \n",
       "8782  With an all-important high school party at sta...  \n",
       "8783  Friends Mai, Oto and Vik's games at the park b...  \n",
       "8784  Vik meets new friends in a new city, where the...  \n",
       "8785  With the mind of a human being, and the body o...  \n",
       "8786  A gifted young ballet dancer struggles to find...  \n",
       "8787  After stepping in to revitalize his family's h...  \n",
       "8788  A soap opera producer, director and makeup art...  \n",
       "8789  Laida and Miggy think they've found perfect ha...  \n",
       "8790  An Israeli counterterrorism soldier with a sec...  \n",
       "8791  When a divorced writer gets a letter from an o...  \n",
       "8792  Aided only by a tough female police officer, a...  \n",
       "8793  When a father of eight and a mother of 10 prep...  \n",
       "8794  Amid the tumult following Egyptian President M...  \n",
       "8795  Now that he's discovered the Pendulum Summonin...  \n",
       "8796  During the Mongol invasions, Yunus Emre leaves...  \n",
       "8797  Teen surfer Zak Storm is mysteriously transpor...  \n",
       "8798  A philandering small-town mechanic's political...  \n",
       "8799  A change in the leadership of a political part...  \n",
       "8800  Strong-willed, middle-class Kashaf and carefre...  \n",
       "8801  Recovering alcoholic Talal wakes up inside a s...  \n",
       "8802  A political cartoonist, a crime reporter and a...  \n",
       "8803  While living alone in a spooky town, a young g...  \n",
       "8804  Looking to survive in a world taken over by zo...  \n",
       "8805  Dragged from civilian life, a former superhero...  \n",
       "8806  A scrappy but poor boy worms his way into a ty...  \n",
       "\n",
       "[8807 rows x 12 columns]"
      ]
     },
     "execution_count": 40,
     "metadata": {},
     "output_type": "execute_result"
    }
   ],
   "source": [
    "import pandas as pd\n",
    "df = pd.read_csv(\"netflix_titles.csv\")\n",
    "df\n"
   ]
  },
  {
   "cell_type": "code",
   "execution_count": null,
   "metadata": {},
   "outputs": [],
   "source": []
  }
 ],
 "metadata": {
  "kernelspec": {
   "display_name": "Python 2",
   "language": "python",
   "name": "python2"
  },
  "language_info": {
   "codemirror_mode": {
    "name": "ipython",
    "version": 2
   },
   "file_extension": ".py",
   "mimetype": "text/x-python",
   "name": "python",
   "nbconvert_exporter": "python",
   "pygments_lexer": "ipython2",
   "version": "2.7.16"
  }
 },
 "nbformat": 4,
 "nbformat_minor": 2
}
